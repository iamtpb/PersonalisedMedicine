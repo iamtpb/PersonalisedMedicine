{
 "cells": [
  {
   "cell_type": "markdown",
   "metadata": {},
   "source": [
    "# EDA\n",
    "\n",
    "* Import and load files for stage 1 \n",
    "* Variants data \n",
    "    + Base table look\n",
    "    + Visulisation of Gene and Variation Data\n",
    "    + Class Balance\n",
    "    + Gene Data Exploration\n",
    "    + Variation Data Exploration\n",
    "* Text data\n",
    "    + Overview\n",
    "    + On data cleaning and preparations\n",
    "    + Length Feature\n",
    "    + Density\n",
    "* Load and visualise stage 2 data"
   ]
  },
  {
   "cell_type": "code",
   "execution_count": 218,
   "metadata": {},
   "outputs": [],
   "source": [
    "import numpy as np\n",
    "import pandas as pd\n",
    "import matplotlib.pyplot as plt\n",
    "%matplotlib inline"
   ]
  },
  {
   "cell_type": "markdown",
   "metadata": {},
   "source": [
    "## load data"
   ]
  },
  {
   "cell_type": "code",
   "execution_count": 219,
   "metadata": {},
   "outputs": [],
   "source": [
    "train_variants = pd.read_csv(\"data/training_variants\")\n",
    "test_variants = pd.read_csv(\"data/test_variants\")\n",
    "\n",
    "train_text = pd.read_csv(\"data/training_text\", sep=\"\\|\\|\", engine='python', header=None, skiprows=1,names=[\"id\",\"text\"])\n",
    "test_text = pd.read_csv(\"data/test_text\", sep=\"\\|\\|\", engine='python', header=None, skiprows=1,names=[\"id\",\"text\"])"
   ]
  },
  {
   "cell_type": "code",
   "execution_count": 220,
   "metadata": {},
   "outputs": [
    {
     "name": "stdout",
     "output_type": "stream",
     "text": [
      "Train variants\t (3321, 4)\n",
      "Test variants\t (5668, 3)\n",
      "Train text\t (3321, 2)\n",
      "Test text\t (5668, 2)\n"
     ]
    }
   ],
   "source": [
    "print(\"Train variants\\t\",train_variants.shape)\n",
    "print(\"Test variants\\t\",test_variants.shape)\n",
    "print(\"Train text\\t\", train_text.shape)\n",
    "print(\"Test text\\t\", test_text.shape)"
   ]
  },
  {
   "cell_type": "markdown",
   "metadata": {},
   "source": [
    "## Training Variants"
   ]
  },
  {
   "cell_type": "code",
   "execution_count": 221,
   "metadata": {},
   "outputs": [
    {
     "data": {
      "text/html": [
       "<div>\n",
       "<style>\n",
       "    .dataframe thead tr:only-child th {\n",
       "        text-align: right;\n",
       "    }\n",
       "\n",
       "    .dataframe thead th {\n",
       "        text-align: left;\n",
       "    }\n",
       "\n",
       "    .dataframe tbody tr th {\n",
       "        vertical-align: top;\n",
       "    }\n",
       "</style>\n",
       "<table border=\"1\" class=\"dataframe\">\n",
       "  <thead>\n",
       "    <tr style=\"text-align: right;\">\n",
       "      <th></th>\n",
       "      <th>ID</th>\n",
       "      <th>Gene</th>\n",
       "      <th>Variation</th>\n",
       "      <th>Class</th>\n",
       "    </tr>\n",
       "  </thead>\n",
       "  <tbody>\n",
       "    <tr>\n",
       "      <th>0</th>\n",
       "      <td>0</td>\n",
       "      <td>FAM58A</td>\n",
       "      <td>Truncating Mutations</td>\n",
       "      <td>1</td>\n",
       "    </tr>\n",
       "    <tr>\n",
       "      <th>1</th>\n",
       "      <td>1</td>\n",
       "      <td>CBL</td>\n",
       "      <td>W802*</td>\n",
       "      <td>2</td>\n",
       "    </tr>\n",
       "    <tr>\n",
       "      <th>2</th>\n",
       "      <td>2</td>\n",
       "      <td>CBL</td>\n",
       "      <td>Q249E</td>\n",
       "      <td>2</td>\n",
       "    </tr>\n",
       "    <tr>\n",
       "      <th>3</th>\n",
       "      <td>3</td>\n",
       "      <td>CBL</td>\n",
       "      <td>N454D</td>\n",
       "      <td>3</td>\n",
       "    </tr>\n",
       "    <tr>\n",
       "      <th>4</th>\n",
       "      <td>4</td>\n",
       "      <td>CBL</td>\n",
       "      <td>L399V</td>\n",
       "      <td>4</td>\n",
       "    </tr>\n",
       "  </tbody>\n",
       "</table>\n",
       "</div>"
      ],
      "text/plain": [
       "   ID    Gene             Variation  Class\n",
       "0   0  FAM58A  Truncating Mutations      1\n",
       "1   1     CBL                 W802*      2\n",
       "2   2     CBL                 Q249E      2\n",
       "3   3     CBL                 N454D      3\n",
       "4   4     CBL                 L399V      4"
      ]
     },
     "execution_count": 221,
     "metadata": {},
     "output_type": "execute_result"
    }
   ],
   "source": [
    "train_variants.head()"
   ]
  },
  {
   "cell_type": "markdown",
   "metadata": {},
   "source": [
    "## Preliminary look at Gene data"
   ]
  },
  {
   "cell_type": "code",
   "execution_count": 222,
   "metadata": {},
   "outputs": [
    {
     "data": {
      "text/plain": [
       "<matplotlib.axes._subplots.AxesSubplot at 0x7fc820a12be0>"
      ]
     },
     "execution_count": 222,
     "metadata": {},
     "output_type": "execute_result"
    },
    {
     "data": {
      "image/png": "[encoded data removed]",
      "text/plain": [
       "<matplotlib.figure.Figure at 0x7fc820a124e0>"
      ]
     },
     "metadata": {},
     "output_type": "display_data"
    }
   ],
   "source": [
    "train_variants.groupby('Gene')['Gene'].count().plot()"
   ]
  },
  {
   "cell_type": "markdown",
   "metadata": {},
   "source": [
    "## Preliminary look at Variation data"
   ]
  },
  {
   "cell_type": "code",
   "execution_count": 223,
   "metadata": {
    "scrolled": true
   },
   "outputs": [
    {
     "data": {
      "text/plain": [
       "<matplotlib.axes._subplots.AxesSubplot at 0x7fc81dd7cac8>"
      ]
     },
     "execution_count": 223,
     "metadata": {},
     "output_type": "execute_result"
    },
    {
     "data": {
      "image/png": "[encoded data removed]",
      "text/plain": [
       "<matplotlib.figure.Figure at 0x7fc81dd426a0>"
      ]
     },
     "metadata": {},
     "output_type": "display_data"
    }
   ],
   "source": [
    "train_variants.groupby('Variation')['Variation'].count().plot()"
   ]
  },
  {
   "cell_type": "markdown",
   "metadata": {},
   "source": [
    "comment: _needs further analysis for usefulness of feature_"
   ]
  },
  {
   "cell_type": "markdown",
   "metadata": {},
   "source": [
    "## Class Balance"
   ]
  },
  {
   "cell_type": "code",
   "execution_count": 224,
   "metadata": {},
   "outputs": [
    {
     "data": {
      "text/plain": [
       "<matplotlib.axes._subplots.AxesSubplot at 0x7fc8210f8160>"
      ]
     },
     "execution_count": 224,
     "metadata": {},
     "output_type": "execute_result"
    },
    {
     "data": {
      "image/png": "[encoded data removed]",
      "text/plain": [
       "<matplotlib.figure.Figure at 0x7fc8213303c8>"
      ]
     },
     "metadata": {},
     "output_type": "display_data"
    }
   ],
   "source": [
    "train_variants.groupby('Class')['Class'].count().plot(kind='bar')"
   ]
  },
  {
   "cell_type": "markdown",
   "metadata": {},
   "source": [
    "#### Seems to be very imbalanced. Ways to tackle would be to Oversample for minority classes. Something like [SMOTE](https://arxiv.org/abs/1106.1813) should work.\n"
   ]
  },
  {
   "cell_type": "markdown",
   "metadata": {},
   "source": [
    "## Gene Data"
   ]
  },
  {
   "cell_type": "code",
   "execution_count": 225,
   "metadata": {},
   "outputs": [
    {
     "data": {
      "image/png": "[encoded data removed]",
      "text/plain": [
       "<matplotlib.figure.Figure at 0x7fc8230312e8>"
      ]
     },
     "metadata": {},
     "output_type": "display_data"
    }
   ],
   "source": [
    "train_genes = train_variants.groupby('Gene')['Gene'].count()\n",
    "plt.figure(figsize=(12,8))\n",
    "plt.hist(train_genes.values,bins=50,log=True)\n",
    "plt.xlabel('Gene appearance', fontsize=12)\n",
    "plt.ylabel('log of Count', fontsize=12)\n",
    "plt.show()"
   ]
  },
  {
   "cell_type": "code",
   "execution_count": 226,
   "metadata": {},
   "outputs": [
    {
     "name": "stdout",
     "output_type": "stream",
     "text": [
      "264 \n",
      " Percent less than:\n",
      "10 \t:\t 71.59 %\n",
      "20 \t:\t 82.95 %\n",
      "30 \t:\t 90.15 %\n",
      "40 \t:\t 92.42 %\n",
      "50 \t:\t 95.08 %\n",
      "60 \t:\t 96.21 %\n",
      "80 \t:\t 97.35 %\n",
      "100 \t:\t 98.11 %\n",
      "150 \t:\t 99.24 %\n",
      "200 \t:\t 99.62 %\n",
      "250 \t:\t 99.62 %\n"
     ]
    }
   ],
   "source": [
    "print(train_genes.count(),'\\n','Percent less than:')\n",
    "for i in [10,20,30,40,50,60,80,100,150,200,250]:\n",
    "    print(i,\"\\t:\\t\",round((train_genes<i).mean()*100,2),'%')"
   ]
  },
  {
   "cell_type": "code",
   "execution_count": 227,
   "metadata": {},
   "outputs": [
    {
     "data": {
      "image/png": "[encoded data removed]",
      "text/plain": [
       "<matplotlib.figure.Figure at 0x7fc823039470>"
      ]
     },
     "metadata": {},
     "output_type": "display_data"
    }
   ],
   "source": [
    "plt.figure(figsize=(16,8))\n",
    "ax = train_variants['Gene'].value_counts()[:20].plot.bar()\n",
    "ax.set_xlabel(\"Gene\",size=15)\n",
    "ax.set_ylabel(\"Count\",size=15)\n",
    "plt.show()"
   ]
  },
  {
   "cell_type": "markdown",
   "metadata": {},
   "source": [
    "## Variation Data"
   ]
  },
  {
   "cell_type": "code",
   "execution_count": 228,
   "metadata": {
    "scrolled": false
   },
   "outputs": [
    {
     "data": {
      "image/png": "[encoded data removed]",
      "text/plain": [
       "<matplotlib.figure.Figure at 0x7fc824bf2b38>"
      ]
     },
     "metadata": {},
     "output_type": "display_data"
    }
   ],
   "source": [
    "train_variations = train_variants.groupby('Variation')['Variation'].count()\n",
    "#print(train_variations)\n",
    "plt.figure(figsize=(12,8))\n",
    "plt.hist(train_variations.values,bins=50,log=True)\n",
    "plt.xlabel('Variants appearances', fontsize=12)\n",
    "plt.ylabel('log of Count', fontsize=12)\n",
    "plt.show()"
   ]
  },
  {
   "cell_type": "code",
   "execution_count": 229,
   "metadata": {},
   "outputs": [
    {
     "name": "stdout",
     "output_type": "stream",
     "text": [
      "2996 |Count less than 2:  2946\n"
     ]
    }
   ],
   "source": [
    "print(train_variations.count(),\"|Count less than 2: \",int((train_variations<2).mean()*train_variations.count()))"
   ]
  },
  {
   "cell_type": "code",
   "execution_count": 230,
   "metadata": {},
   "outputs": [
    {
     "data": {
      "image/png": "[encoded data removed]",
      "text/plain": [
       "<matplotlib.figure.Figure at 0x7fc8210fe438>"
      ]
     },
     "metadata": {},
     "output_type": "display_data"
    }
   ],
   "source": [
    "plt.figure(figsize=(16,8))\n",
    "ax = train_variants['Variation'].value_counts()[:20].plot.bar()\n",
    "ax.set_xlabel(\"Variation\", size='xx-large')\n",
    "ax.set_ylabel(\"Count\", size='xx-large')\n",
    "plt.show()"
   ]
  },
  {
   "cell_type": "markdown",
   "metadata": {},
   "source": [
    "## Medical Text"
   ]
  },
  {
   "cell_type": "code",
   "execution_count": 231,
   "metadata": {
    "scrolled": false
   },
   "outputs": [
    {
     "data": {
      "text/html": [
       "<div>\n",
       "<style>\n",
       "    .dataframe thead tr:only-child th {\n",
       "        text-align: right;\n",
       "    }\n",
       "\n",
       "    .dataframe thead th {\n",
       "        text-align: left;\n",
       "    }\n",
       "\n",
       "    .dataframe tbody tr th {\n",
       "        vertical-align: top;\n",
       "    }\n",
       "</style>\n",
       "<table border=\"1\" class=\"dataframe\">\n",
       "  <thead>\n",
       "    <tr style=\"text-align: right;\">\n",
       "      <th></th>\n",
       "      <th>id</th>\n",
       "      <th>text</th>\n",
       "    </tr>\n",
       "  </thead>\n",
       "  <tbody>\n",
       "    <tr>\n",
       "      <th>0</th>\n",
       "      <td>0</td>\n",
       "      <td>Cyclin-dependent kinases (CDKs) regulate a var...</td>\n",
       "    </tr>\n",
       "    <tr>\n",
       "      <th>1</th>\n",
       "      <td>1</td>\n",
       "      <td>Abstract Background  Non-small cell lung canc...</td>\n",
       "    </tr>\n",
       "    <tr>\n",
       "      <th>2</th>\n",
       "      <td>2</td>\n",
       "      <td>Abstract Background  Non-small cell lung canc...</td>\n",
       "    </tr>\n",
       "    <tr>\n",
       "      <th>3</th>\n",
       "      <td>3</td>\n",
       "      <td>Recent evidence has demonstrated that acquired...</td>\n",
       "    </tr>\n",
       "    <tr>\n",
       "      <th>4</th>\n",
       "      <td>4</td>\n",
       "      <td>Oncogenic mutations in the monomeric Casitas B...</td>\n",
       "    </tr>\n",
       "  </tbody>\n",
       "</table>\n",
       "</div>"
      ],
      "text/plain": [
       "   id                                               text\n",
       "0   0  Cyclin-dependent kinases (CDKs) regulate a var...\n",
       "1   1   Abstract Background  Non-small cell lung canc...\n",
       "2   2   Abstract Background  Non-small cell lung canc...\n",
       "3   3  Recent evidence has demonstrated that acquired...\n",
       "4   4  Oncogenic mutations in the monomeric Casitas B..."
      ]
     },
     "execution_count": 231,
     "metadata": {},
     "output_type": "execute_result"
    }
   ],
   "source": [
    "train_text.head()"
   ]
  },
  {
   "cell_type": "markdown",
   "metadata": {},
   "source": [
    "## Overview"
   ]
  },
  {
   "cell_type": "code",
   "execution_count": 232,
   "metadata": {
    "scrolled": true
   },
   "outputs": [
    {
     "name": "stdout",
     "output_type": "stream",
     "text": [
      "2000 out of 39672 :\n",
      " Cyclin-dependent kinases (CDKs) regulate a variety of fundamental cellular processes. CDK10 stands out as one of the last orphan CDKs for which no activating cyclin has been identified and no kinase activity revealed. Previous work has shown that CDK10 silencing increases ETS2 (v-ets erythroblastosis virus E26 oncogene homolog 2)-driven activation of the MAPK pathway, which confers tamoxifen resistance to breast cancer cells. The precise mechanisms by which CDK10 modulates ETS2 activity, and more generally the functions of CDK10, remain elusive. Here we demonstrate that CDK10 is a cyclin-dependent kinase by identifying cyclin M as an activating cyclin. Cyclin M, an orphan cyclin, is the product of FAM58A, whose mutations cause STAR syndrome, a human developmental anomaly whose features include toe syndactyly, telecanthus, and anogenital and renal malformations. We show that STAR syndrome-associated cyclin M mutants are unable to interact with CDK10. Cyclin M silencing phenocopies CDK10 silencing in increasing c-Raf and in conferring tamoxifen resistance to breast cancer cells. CDK10/cyclin M phosphorylates ETS2 in vitro, and in cells it positively controls ETS2 degradation by the proteasome. ETS2 protein levels are increased in cells derived from a STAR patient, and this increase is attributable to decreased cyclin M levels. Altogether, our results reveal an additional regulatory mechanism for ETS2, which plays key roles in cancer and development. They also shed light on the molecular mechanisms underlying STAR syndrome.Cyclin-dependent kinases (CDKs) play a pivotal role in the control of a number of fundamental cellular processes (1). The human genome contains 21 genes encoding proteins that can be considered as members of the CDK family owing to their sequence similarity with bona fide CDKs, those known to be activated by cyclins (2). Although discovered almost 20 y ago (3, 4), CDK10 remains one of the two CDKs without an identified cyclin partner. This knowledge \n"
     ]
    }
   ],
   "source": [
    "print(\"2000 out of\",len(train_text['text'][0]),\":\\n\",train_text['text'][0][:2000])"
   ]
  },
  {
   "cell_type": "markdown",
   "metadata": {},
   "source": [
    "Will need a lot of preprocessing. Thoughts: \n",
    "- Use of genomic dataset for vectorisation would yield better results.\n",
    "- Lots of Domain specific information in the text\n",
    "- Analysis of graphs showing number of tokens in dataset to select correct number of vectors is essential\n",
    "    - Problem with Training time (depending on model) and Memory requirement anticipated\n",
    "    - n-grams will be slow but crucial. probably ngram(1,2) is feasible right now (3+ to be experimented)\n",
    "    - [Vectorizing with hashing](http://scikit-learn.org/stable/modules/feature_extraction.html#vectorizing-a-large-text-corpus-with-the-hashing-trick)\n",
    "- Custom Stop words?"
   ]
  },
  {
   "cell_type": "code",
   "execution_count": 233,
   "metadata": {
    "scrolled": false
   },
   "outputs": [
    {
     "data": {
      "image/png": "[encoded data removed]",
      "text/plain": [
       "<matplotlib.figure.Figure at 0x7fc81db5d7b8>"
      ]
     },
     "metadata": {},
     "output_type": "display_data"
    }
   ],
   "source": [
    "train_text['len'] = train_text['text'].apply(lambda x : len(x.split()))\n",
    "plt.figure(figsize=(12,8))\n",
    "train_text['len'].plot.hist(bins=50)\n",
    "plt.xlabel('Length of text')\n",
    "plt.show()"
   ]
  },
  {
   "cell_type": "code",
   "execution_count": 234,
   "metadata": {
    "scrolled": false
   },
   "outputs": [
    {
     "data": {
      "image/png": "[encoded data removed]",
      "text/plain": [
       "<matplotlib.figure.Figure at 0x7fc820d9de80>"
      ]
     },
     "metadata": {},
     "output_type": "display_data"
    }
   ],
   "source": [
    "plt.figure(figsize=(14,8))\n",
    "for i in range(9):\n",
    "    ax = train_text['len'][train_variants[train_variants['Class']==(i+1)].index].plot(kind='kde',label='Class '+str(i+1))\n",
    "ax.set_ylim(0,0.00015)\n",
    "ax.set_xlim(0,50000)\n",
    "plt.legend(bbox_to_anchor=(1.05, 1), loc=2, borderaxespad=0.)\n",
    "plt.show()"
   ]
  },
  {
   "cell_type": "markdown",
   "metadata": {},
   "source": [
    "# Stage 2 Data"
   ]
  },
  {
   "cell_type": "code",
   "execution_count": 235,
   "metadata": {},
   "outputs": [],
   "source": [
    "df_variants_train = pd.read_csv('data/training_variants', usecols=['Gene', 'Variation', 'Class'])\n",
    "df_text_train = pd.read_csv('data/training_text', sep='\\|\\|', engine='python', skiprows=1, names=['ID', 'Text'])\n",
    "df_variants_train['Text'] = df_text_train['Text']\n",
    "train = df_variants_train"
   ]
  },
  {
   "cell_type": "code",
   "execution_count": 236,
   "metadata": {},
   "outputs": [],
   "source": [
    "df_variants_test = pd.read_csv('data/test_variants', usecols=['ID', 'Gene', 'Variation'])\n",
    "df_text_test = pd.read_csv('data/test_text', sep='\\|\\|', engine='python', skiprows=1, names=['ID', 'Text'])\n",
    "df_variants_test['Text'] = df_text_test['Text']\n",
    "test = df_variants_test"
   ]
  },
  {
   "cell_type": "code",
   "execution_count": 237,
   "metadata": {},
   "outputs": [],
   "source": [
    "# read stage1 solutions\n",
    "df_labels_test = pd.read_csv('data/stage1_solution_filtered.csv')\n",
    "df_labels_test['Class'] = pd.to_numeric(df_labels_test.drop('ID', axis=1).idxmax(axis=1).str[5:])\n",
    "\n",
    "# join with test_data on same indexes\n",
    "test = test.merge(df_labels_test[['ID', 'Class']], on='ID', how='left').drop('ID', axis=1)\n",
    "test = test[test['Class'].notnull()]\n",
    "\n",
    "# join train and test files\n",
    "stage_2_train = pd.concat([train, test])"
   ]
  },
  {
   "cell_type": "code",
   "execution_count": 238,
   "metadata": {},
   "outputs": [],
   "source": [
    "stage_2_train.reset_index(drop=True, inplace=True)"
   ]
  },
  {
   "cell_type": "code",
   "execution_count": 239,
   "metadata": {},
   "outputs": [
    {
     "name": "stdout",
     "output_type": "stream",
     "text": [
      "<class 'pandas.core.frame.DataFrame'>\n",
      "RangeIndex: 3689 entries, 0 to 3688\n",
      "Data columns (total 4 columns):\n",
      "Class        3689 non-null float64\n",
      "Gene         3689 non-null object\n",
      "Text         3689 non-null object\n",
      "Variation    3689 non-null object\n",
      "dtypes: float64(1), object(3)\n",
      "memory usage: 115.4+ KB\n"
     ]
    }
   ],
   "source": [
    "stage_2_train.info()"
   ]
  },
  {
   "cell_type": "code",
   "execution_count": 240,
   "metadata": {},
   "outputs": [
    {
     "data": {
      "text/html": [
       "<div>\n",
       "<style>\n",
       "    .dataframe thead tr:only-child th {\n",
       "        text-align: right;\n",
       "    }\n",
       "\n",
       "    .dataframe thead th {\n",
       "        text-align: left;\n",
       "    }\n",
       "\n",
       "    .dataframe tbody tr th {\n",
       "        vertical-align: top;\n",
       "    }\n",
       "</style>\n",
       "<table border=\"1\" class=\"dataframe\">\n",
       "  <thead>\n",
       "    <tr style=\"text-align: right;\">\n",
       "      <th></th>\n",
       "      <th>Test</th>\n",
       "      <th>All</th>\n",
       "    </tr>\n",
       "  </thead>\n",
       "  <tbody>\n",
       "    <tr>\n",
       "      <th>1.0</th>\n",
       "      <td>94</td>\n",
       "      <td>662</td>\n",
       "    </tr>\n",
       "    <tr>\n",
       "      <th>2.0</th>\n",
       "      <td>46</td>\n",
       "      <td>498</td>\n",
       "    </tr>\n",
       "    <tr>\n",
       "      <th>3.0</th>\n",
       "      <td>7</td>\n",
       "      <td>96</td>\n",
       "    </tr>\n",
       "    <tr>\n",
       "      <th>4.0</th>\n",
       "      <td>65</td>\n",
       "      <td>751</td>\n",
       "    </tr>\n",
       "    <tr>\n",
       "      <th>5.0</th>\n",
       "      <td>25</td>\n",
       "      <td>267</td>\n",
       "    </tr>\n",
       "    <tr>\n",
       "      <th>6.0</th>\n",
       "      <td>22</td>\n",
       "      <td>297</td>\n",
       "    </tr>\n",
       "    <tr>\n",
       "      <th>7.0</th>\n",
       "      <td>101</td>\n",
       "      <td>1054</td>\n",
       "    </tr>\n",
       "    <tr>\n",
       "      <th>8.0</th>\n",
       "      <td>2</td>\n",
       "      <td>21</td>\n",
       "    </tr>\n",
       "    <tr>\n",
       "      <th>9.0</th>\n",
       "      <td>6</td>\n",
       "      <td>43</td>\n",
       "    </tr>\n",
       "  </tbody>\n",
       "</table>\n",
       "</div>"
      ],
      "text/plain": [
       "     Test   All\n",
       "1.0    94   662\n",
       "2.0    46   498\n",
       "3.0     7    96\n",
       "4.0    65   751\n",
       "5.0    25   267\n",
       "6.0    22   297\n",
       "7.0   101  1054\n",
       "8.0     2    21\n",
       "9.0     6    43"
      ]
     },
     "execution_count": 240,
     "metadata": {},
     "output_type": "execute_result"
    }
   ],
   "source": [
    "pd.concat([df_test['Class'].value_counts(), stage_2_train['Class'].value_counts()], axis=1, keys=['Test', 'All'])"
   ]
  },
  {
   "cell_type": "code",
   "execution_count": 241,
   "metadata": {},
   "outputs": [
    {
     "data": {
      "text/html": [
       "<div>\n",
       "<style>\n",
       "    .dataframe thead tr:only-child th {\n",
       "        text-align: right;\n",
       "    }\n",
       "\n",
       "    .dataframe thead th {\n",
       "        text-align: left;\n",
       "    }\n",
       "\n",
       "    .dataframe tbody tr th {\n",
       "        vertical-align: top;\n",
       "    }\n",
       "</style>\n",
       "<table border=\"1\" class=\"dataframe\">\n",
       "  <thead>\n",
       "    <tr style=\"text-align: right;\">\n",
       "      <th></th>\n",
       "      <th>Class</th>\n",
       "      <th>Gene</th>\n",
       "      <th>Text</th>\n",
       "      <th>Variation</th>\n",
       "    </tr>\n",
       "  </thead>\n",
       "  <tbody>\n",
       "    <tr>\n",
       "      <th>0</th>\n",
       "      <td>1.0</td>\n",
       "      <td>FAM58A</td>\n",
       "      <td>Cyclin-dependent kinases (CDKs) regulate a var...</td>\n",
       "      <td>Truncating Mutations</td>\n",
       "    </tr>\n",
       "    <tr>\n",
       "      <th>1</th>\n",
       "      <td>2.0</td>\n",
       "      <td>CBL</td>\n",
       "      <td>Abstract Background  Non-small cell lung canc...</td>\n",
       "      <td>W802*</td>\n",
       "    </tr>\n",
       "    <tr>\n",
       "      <th>2</th>\n",
       "      <td>2.0</td>\n",
       "      <td>CBL</td>\n",
       "      <td>Abstract Background  Non-small cell lung canc...</td>\n",
       "      <td>Q249E</td>\n",
       "    </tr>\n",
       "    <tr>\n",
       "      <th>3</th>\n",
       "      <td>3.0</td>\n",
       "      <td>CBL</td>\n",
       "      <td>Recent evidence has demonstrated that acquired...</td>\n",
       "      <td>N454D</td>\n",
       "    </tr>\n",
       "    <tr>\n",
       "      <th>4</th>\n",
       "      <td>4.0</td>\n",
       "      <td>CBL</td>\n",
       "      <td>Oncogenic mutations in the monomeric Casitas B...</td>\n",
       "      <td>L399V</td>\n",
       "    </tr>\n",
       "    <tr>\n",
       "      <th>5</th>\n",
       "      <td>4.0</td>\n",
       "      <td>CBL</td>\n",
       "      <td>Oncogenic mutations in the monomeric Casitas B...</td>\n",
       "      <td>V391I</td>\n",
       "    </tr>\n",
       "    <tr>\n",
       "      <th>6</th>\n",
       "      <td>5.0</td>\n",
       "      <td>CBL</td>\n",
       "      <td>Oncogenic mutations in the monomeric Casitas B...</td>\n",
       "      <td>V430M</td>\n",
       "    </tr>\n",
       "    <tr>\n",
       "      <th>7</th>\n",
       "      <td>1.0</td>\n",
       "      <td>CBL</td>\n",
       "      <td>CBL is a negative regulator of activated recep...</td>\n",
       "      <td>Deletion</td>\n",
       "    </tr>\n",
       "    <tr>\n",
       "      <th>8</th>\n",
       "      <td>4.0</td>\n",
       "      <td>CBL</td>\n",
       "      <td>Abstract Juvenile myelomonocytic leukemia (JM...</td>\n",
       "      <td>Y371H</td>\n",
       "    </tr>\n",
       "    <tr>\n",
       "      <th>9</th>\n",
       "      <td>4.0</td>\n",
       "      <td>CBL</td>\n",
       "      <td>Abstract Juvenile myelomonocytic leukemia (JM...</td>\n",
       "      <td>C384R</td>\n",
       "    </tr>\n",
       "    <tr>\n",
       "      <th>10</th>\n",
       "      <td>4.0</td>\n",
       "      <td>CBL</td>\n",
       "      <td>Oncogenic mutations in the monomeric Casitas B...</td>\n",
       "      <td>P395A</td>\n",
       "    </tr>\n",
       "    <tr>\n",
       "      <th>11</th>\n",
       "      <td>4.0</td>\n",
       "      <td>CBL</td>\n",
       "      <td>Noonan syndrome is an autosomal dominant conge...</td>\n",
       "      <td>K382E</td>\n",
       "    </tr>\n",
       "    <tr>\n",
       "      <th>12</th>\n",
       "      <td>4.0</td>\n",
       "      <td>CBL</td>\n",
       "      <td>Noonan syndrome is an autosomal dominant conge...</td>\n",
       "      <td>R420Q</td>\n",
       "    </tr>\n",
       "    <tr>\n",
       "      <th>13</th>\n",
       "      <td>4.0</td>\n",
       "      <td>CBL</td>\n",
       "      <td>Noonan syndrome is an autosomal dominant conge...</td>\n",
       "      <td>C381A</td>\n",
       "    </tr>\n",
       "    <tr>\n",
       "      <th>14</th>\n",
       "      <td>5.0</td>\n",
       "      <td>CBL</td>\n",
       "      <td>Oncogenic mutations in the monomeric Casitas B...</td>\n",
       "      <td>P428L</td>\n",
       "    </tr>\n",
       "    <tr>\n",
       "      <th>15</th>\n",
       "      <td>4.0</td>\n",
       "      <td>CBL</td>\n",
       "      <td>Noonan syndrome is an autosomal dominant conge...</td>\n",
       "      <td>D390Y</td>\n",
       "    </tr>\n",
       "    <tr>\n",
       "      <th>16</th>\n",
       "      <td>1.0</td>\n",
       "      <td>CBL</td>\n",
       "      <td>To determine if residual cylindrical refractiv...</td>\n",
       "      <td>Truncating Mutations</td>\n",
       "    </tr>\n",
       "    <tr>\n",
       "      <th>17</th>\n",
       "      <td>4.0</td>\n",
       "      <td>CBL</td>\n",
       "      <td>Acquired uniparental disomy (aUPD) is a common...</td>\n",
       "      <td>Q367P</td>\n",
       "    </tr>\n",
       "    <tr>\n",
       "      <th>18</th>\n",
       "      <td>5.0</td>\n",
       "      <td>CBL</td>\n",
       "      <td>Oncogenic mutations in the monomeric Casitas B...</td>\n",
       "      <td>M374V</td>\n",
       "    </tr>\n",
       "    <tr>\n",
       "      <th>19</th>\n",
       "      <td>4.0</td>\n",
       "      <td>CBL</td>\n",
       "      <td>Acquired uniparental disomy (aUPD) is a common...</td>\n",
       "      <td>Y371S</td>\n",
       "    </tr>\n",
       "    <tr>\n",
       "      <th>20</th>\n",
       "      <td>6.0</td>\n",
       "      <td>CBL</td>\n",
       "      <td>Abstract Background  Non-small cell lung canc...</td>\n",
       "      <td>H94Y</td>\n",
       "    </tr>\n",
       "    <tr>\n",
       "      <th>21</th>\n",
       "      <td>4.0</td>\n",
       "      <td>CBL</td>\n",
       "      <td>Oncogenic mutations in the monomeric Casitas B...</td>\n",
       "      <td>C396R</td>\n",
       "    </tr>\n",
       "    <tr>\n",
       "      <th>22</th>\n",
       "      <td>4.0</td>\n",
       "      <td>CBL</td>\n",
       "      <td>Oncogenic mutations in the monomeric Casitas B...</td>\n",
       "      <td>G375P</td>\n",
       "    </tr>\n",
       "    <tr>\n",
       "      <th>23</th>\n",
       "      <td>4.0</td>\n",
       "      <td>CBL</td>\n",
       "      <td>Recent evidence has demonstrated that acquired...</td>\n",
       "      <td>S376F</td>\n",
       "    </tr>\n",
       "    <tr>\n",
       "      <th>24</th>\n",
       "      <td>4.0</td>\n",
       "      <td>CBL</td>\n",
       "      <td>Recent evidence has demonstrated that acquired...</td>\n",
       "      <td>P417A</td>\n",
       "    </tr>\n",
       "    <tr>\n",
       "      <th>25</th>\n",
       "      <td>4.0</td>\n",
       "      <td>CBL</td>\n",
       "      <td>Recent evidence has demonstrated that acquired...</td>\n",
       "      <td>H398Y</td>\n",
       "    </tr>\n",
       "    <tr>\n",
       "      <th>26</th>\n",
       "      <td>4.0</td>\n",
       "      <td>SHOC2</td>\n",
       "      <td>Abstract N-myristoylation is a common form of...</td>\n",
       "      <td>S2G</td>\n",
       "    </tr>\n",
       "    <tr>\n",
       "      <th>27</th>\n",
       "      <td>4.0</td>\n",
       "      <td>TERT</td>\n",
       "      <td>Heterozygous mutations in the telomerase compo...</td>\n",
       "      <td>Y846C</td>\n",
       "    </tr>\n",
       "    <tr>\n",
       "      <th>28</th>\n",
       "      <td>7.0</td>\n",
       "      <td>TERT</td>\n",
       "      <td>Sequencing studies have identified many recurr...</td>\n",
       "      <td>C228T</td>\n",
       "    </tr>\n",
       "    <tr>\n",
       "      <th>29</th>\n",
       "      <td>4.0</td>\n",
       "      <td>TERT</td>\n",
       "      <td>Heterozygous mutations in the telomerase compo...</td>\n",
       "      <td>H412Y</td>\n",
       "    </tr>\n",
       "    <tr>\n",
       "      <th>...</th>\n",
       "      <td>...</td>\n",
       "      <td>...</td>\n",
       "      <td>...</td>\n",
       "      <td>...</td>\n",
       "    </tr>\n",
       "    <tr>\n",
       "      <th>3659</th>\n",
       "      <td>7.0</td>\n",
       "      <td>SMO</td>\n",
       "      <td>Introduction Uncontrolled activation of the He...</td>\n",
       "      <td>W281C</td>\n",
       "    </tr>\n",
       "    <tr>\n",
       "      <th>3660</th>\n",
       "      <td>4.0</td>\n",
       "      <td>TP53</td>\n",
       "      <td>More than half of all human cancers are associ...</td>\n",
       "      <td>C176R</td>\n",
       "    </tr>\n",
       "    <tr>\n",
       "      <th>3661</th>\n",
       "      <td>7.0</td>\n",
       "      <td>FGFR2</td>\n",
       "      <td>We sought to identify fibroblast growth factor...</td>\n",
       "      <td>N549H</td>\n",
       "    </tr>\n",
       "    <tr>\n",
       "      <th>3662</th>\n",
       "      <td>7.0</td>\n",
       "      <td>ALK</td>\n",
       "      <td>In the era of personalized medicine, understan...</td>\n",
       "      <td>F1174C</td>\n",
       "    </tr>\n",
       "    <tr>\n",
       "      <th>3663</th>\n",
       "      <td>7.0</td>\n",
       "      <td>MET</td>\n",
       "      <td>Non–small cell lung cancer (NSCLC) is a diffic...</td>\n",
       "      <td>X1006_splice</td>\n",
       "    </tr>\n",
       "    <tr>\n",
       "      <th>3664</th>\n",
       "      <td>4.0</td>\n",
       "      <td>KEAP1</td>\n",
       "      <td>IκB kinase β (IKKβ) is involved in tumor devel...</td>\n",
       "      <td>G333C</td>\n",
       "    </tr>\n",
       "    <tr>\n",
       "      <th>3665</th>\n",
       "      <td>1.0</td>\n",
       "      <td>TP53</td>\n",
       "      <td>The transcription factor and tumor suppressor ...</td>\n",
       "      <td>V272M</td>\n",
       "    </tr>\n",
       "    <tr>\n",
       "      <th>3666</th>\n",
       "      <td>7.0</td>\n",
       "      <td>PDGFRA</td>\n",
       "      <td>Chronic myeloproliferative disorders with rear...</td>\n",
       "      <td>CDK5RAP2-PDGFRA Fusion</td>\n",
       "    </tr>\n",
       "    <tr>\n",
       "      <th>3667</th>\n",
       "      <td>1.0</td>\n",
       "      <td>GATA3</td>\n",
       "      <td>Terminal deletions of chromosome 10p result in...</td>\n",
       "      <td>Deletion</td>\n",
       "    </tr>\n",
       "    <tr>\n",
       "      <th>3668</th>\n",
       "      <td>1.0</td>\n",
       "      <td>HNF1A</td>\n",
       "      <td>Mutations in the hepatocyte nuclear factor (HN...</td>\n",
       "      <td>Deletion</td>\n",
       "    </tr>\n",
       "    <tr>\n",
       "      <th>3669</th>\n",
       "      <td>7.0</td>\n",
       "      <td>BRAF</td>\n",
       "      <td>The Ras/MAPK pathway is critical for human dev...</td>\n",
       "      <td>Q257R</td>\n",
       "    </tr>\n",
       "    <tr>\n",
       "      <th>3670</th>\n",
       "      <td>1.0</td>\n",
       "      <td>PTPN11</td>\n",
       "      <td>Elucidation of the molecular mechanisms underl...</td>\n",
       "      <td>R498W</td>\n",
       "    </tr>\n",
       "    <tr>\n",
       "      <th>3671</th>\n",
       "      <td>4.0</td>\n",
       "      <td>PTEN</td>\n",
       "      <td>The tumor suppressor gene PTEN is frequently m...</td>\n",
       "      <td>R130Q</td>\n",
       "    </tr>\n",
       "    <tr>\n",
       "      <th>3672</th>\n",
       "      <td>7.0</td>\n",
       "      <td>FLT3</td>\n",
       "      <td>An internal tandem duplication (ITD) of the FL...</td>\n",
       "      <td>K602_W603insYEYDLK</td>\n",
       "    </tr>\n",
       "    <tr>\n",
       "      <th>3673</th>\n",
       "      <td>5.0</td>\n",
       "      <td>FGFR3</td>\n",
       "      <td>Frequent genetic alterations discovered in FGF...</td>\n",
       "      <td>I538F</td>\n",
       "    </tr>\n",
       "    <tr>\n",
       "      <th>3674</th>\n",
       "      <td>2.0</td>\n",
       "      <td>CCND3</td>\n",
       "      <td>The activities of cyclin D-dependent kinases s...</td>\n",
       "      <td>D286_L292trunc</td>\n",
       "    </tr>\n",
       "    <tr>\n",
       "      <th>3675</th>\n",
       "      <td>7.0</td>\n",
       "      <td>AKT2</td>\n",
       "      <td>High-grade serous ovarian cancer (HGSC) is the...</td>\n",
       "      <td>BCAM-AKT2 Fusion</td>\n",
       "    </tr>\n",
       "    <tr>\n",
       "      <th>3676</th>\n",
       "      <td>7.0</td>\n",
       "      <td>KIT</td>\n",
       "      <td>To analyze a multi-institutional series of typ...</td>\n",
       "      <td>V560del</td>\n",
       "    </tr>\n",
       "    <tr>\n",
       "      <th>3677</th>\n",
       "      <td>2.0</td>\n",
       "      <td>RET</td>\n",
       "      <td>Context Most germline-activating mutations of ...</td>\n",
       "      <td>E511K</td>\n",
       "    </tr>\n",
       "    <tr>\n",
       "      <th>3678</th>\n",
       "      <td>7.0</td>\n",
       "      <td>CTNNB1</td>\n",
       "      <td>We screened 75 primary hepatocellular carcinom...</td>\n",
       "      <td>G34A</td>\n",
       "    </tr>\n",
       "    <tr>\n",
       "      <th>3679</th>\n",
       "      <td>7.0</td>\n",
       "      <td>CTNNB1</td>\n",
       "      <td>We screened 75 primary hepatocellular carcinom...</td>\n",
       "      <td>D32G</td>\n",
       "    </tr>\n",
       "    <tr>\n",
       "      <th>3680</th>\n",
       "      <td>1.0</td>\n",
       "      <td>BRCA1</td>\n",
       "      <td>Abstract  The BRCA1 gene from individuals at ...</td>\n",
       "      <td>P1812A</td>\n",
       "    </tr>\n",
       "    <tr>\n",
       "      <th>3681</th>\n",
       "      <td>7.0</td>\n",
       "      <td>NFE2L2</td>\n",
       "      <td>The Nrf2 (nuclear factor erythroid 2 [NF-E2]-r...</td>\n",
       "      <td>D29N</td>\n",
       "    </tr>\n",
       "    <tr>\n",
       "      <th>3682</th>\n",
       "      <td>4.0</td>\n",
       "      <td>PTEN</td>\n",
       "      <td>The PTEN (phosphatase and tensin homolog) phos...</td>\n",
       "      <td>G129D</td>\n",
       "    </tr>\n",
       "    <tr>\n",
       "      <th>3683</th>\n",
       "      <td>2.0</td>\n",
       "      <td>MAP2K1</td>\n",
       "      <td>Genetic alterations that activate the mitogen-...</td>\n",
       "      <td>L115P</td>\n",
       "    </tr>\n",
       "    <tr>\n",
       "      <th>3684</th>\n",
       "      <td>4.0</td>\n",
       "      <td>MAP2K4</td>\n",
       "      <td>The systematic characterization of somatic mut...</td>\n",
       "      <td>S251N</td>\n",
       "    </tr>\n",
       "    <tr>\n",
       "      <th>3685</th>\n",
       "      <td>4.0</td>\n",
       "      <td>VHL</td>\n",
       "      <td>The von Hippel-Lindau tumor suppressor protein...</td>\n",
       "      <td>N90I</td>\n",
       "    </tr>\n",
       "    <tr>\n",
       "      <th>3686</th>\n",
       "      <td>6.0</td>\n",
       "      <td>MAP2K1</td>\n",
       "      <td>Genetic alterations that activate the mitogen-...</td>\n",
       "      <td>H119P</td>\n",
       "    </tr>\n",
       "    <tr>\n",
       "      <th>3687</th>\n",
       "      <td>4.0</td>\n",
       "      <td>ATM</td>\n",
       "      <td>Abstract The functional consequences of misse...</td>\n",
       "      <td>V2424G</td>\n",
       "    </tr>\n",
       "    <tr>\n",
       "      <th>3688</th>\n",
       "      <td>1.0</td>\n",
       "      <td>TP53</td>\n",
       "      <td>The transcription factor and tumor suppressor ...</td>\n",
       "      <td>G245C</td>\n",
       "    </tr>\n",
       "  </tbody>\n",
       "</table>\n",
       "<p>3689 rows × 4 columns</p>\n",
       "</div>"
      ],
      "text/plain": [
       "      Class    Gene                                               Text  \\\n",
       "0       1.0  FAM58A  Cyclin-dependent kinases (CDKs) regulate a var...   \n",
       "1       2.0     CBL   Abstract Background  Non-small cell lung canc...   \n",
       "2       2.0     CBL   Abstract Background  Non-small cell lung canc...   \n",
       "3       3.0     CBL  Recent evidence has demonstrated that acquired...   \n",
       "4       4.0     CBL  Oncogenic mutations in the monomeric Casitas B...   \n",
       "5       4.0     CBL  Oncogenic mutations in the monomeric Casitas B...   \n",
       "6       5.0     CBL  Oncogenic mutations in the monomeric Casitas B...   \n",
       "7       1.0     CBL  CBL is a negative regulator of activated recep...   \n",
       "8       4.0     CBL   Abstract Juvenile myelomonocytic leukemia (JM...   \n",
       "9       4.0     CBL   Abstract Juvenile myelomonocytic leukemia (JM...   \n",
       "10      4.0     CBL  Oncogenic mutations in the monomeric Casitas B...   \n",
       "11      4.0     CBL  Noonan syndrome is an autosomal dominant conge...   \n",
       "12      4.0     CBL  Noonan syndrome is an autosomal dominant conge...   \n",
       "13      4.0     CBL  Noonan syndrome is an autosomal dominant conge...   \n",
       "14      5.0     CBL  Oncogenic mutations in the monomeric Casitas B...   \n",
       "15      4.0     CBL  Noonan syndrome is an autosomal dominant conge...   \n",
       "16      1.0     CBL  To determine if residual cylindrical refractiv...   \n",
       "17      4.0     CBL  Acquired uniparental disomy (aUPD) is a common...   \n",
       "18      5.0     CBL  Oncogenic mutations in the monomeric Casitas B...   \n",
       "19      4.0     CBL  Acquired uniparental disomy (aUPD) is a common...   \n",
       "20      6.0     CBL   Abstract Background  Non-small cell lung canc...   \n",
       "21      4.0     CBL  Oncogenic mutations in the monomeric Casitas B...   \n",
       "22      4.0     CBL  Oncogenic mutations in the monomeric Casitas B...   \n",
       "23      4.0     CBL  Recent evidence has demonstrated that acquired...   \n",
       "24      4.0     CBL  Recent evidence has demonstrated that acquired...   \n",
       "25      4.0     CBL  Recent evidence has demonstrated that acquired...   \n",
       "26      4.0   SHOC2   Abstract N-myristoylation is a common form of...   \n",
       "27      4.0    TERT  Heterozygous mutations in the telomerase compo...   \n",
       "28      7.0    TERT  Sequencing studies have identified many recurr...   \n",
       "29      4.0    TERT  Heterozygous mutations in the telomerase compo...   \n",
       "...     ...     ...                                                ...   \n",
       "3659    7.0     SMO  Introduction Uncontrolled activation of the He...   \n",
       "3660    4.0    TP53  More than half of all human cancers are associ...   \n",
       "3661    7.0   FGFR2  We sought to identify fibroblast growth factor...   \n",
       "3662    7.0     ALK  In the era of personalized medicine, understan...   \n",
       "3663    7.0     MET  Non–small cell lung cancer (NSCLC) is a diffic...   \n",
       "3664    4.0   KEAP1  IκB kinase β (IKKβ) is involved in tumor devel...   \n",
       "3665    1.0    TP53  The transcription factor and tumor suppressor ...   \n",
       "3666    7.0  PDGFRA  Chronic myeloproliferative disorders with rear...   \n",
       "3667    1.0   GATA3  Terminal deletions of chromosome 10p result in...   \n",
       "3668    1.0   HNF1A  Mutations in the hepatocyte nuclear factor (HN...   \n",
       "3669    7.0    BRAF  The Ras/MAPK pathway is critical for human dev...   \n",
       "3670    1.0  PTPN11  Elucidation of the molecular mechanisms underl...   \n",
       "3671    4.0    PTEN  The tumor suppressor gene PTEN is frequently m...   \n",
       "3672    7.0    FLT3  An internal tandem duplication (ITD) of the FL...   \n",
       "3673    5.0   FGFR3  Frequent genetic alterations discovered in FGF...   \n",
       "3674    2.0   CCND3  The activities of cyclin D-dependent kinases s...   \n",
       "3675    7.0    AKT2  High-grade serous ovarian cancer (HGSC) is the...   \n",
       "3676    7.0     KIT  To analyze a multi-institutional series of typ...   \n",
       "3677    2.0     RET  Context Most germline-activating mutations of ...   \n",
       "3678    7.0  CTNNB1  We screened 75 primary hepatocellular carcinom...   \n",
       "3679    7.0  CTNNB1  We screened 75 primary hepatocellular carcinom...   \n",
       "3680    1.0   BRCA1   Abstract  The BRCA1 gene from individuals at ...   \n",
       "3681    7.0  NFE2L2  The Nrf2 (nuclear factor erythroid 2 [NF-E2]-r...   \n",
       "3682    4.0    PTEN  The PTEN (phosphatase and tensin homolog) phos...   \n",
       "3683    2.0  MAP2K1  Genetic alterations that activate the mitogen-...   \n",
       "3684    4.0  MAP2K4  The systematic characterization of somatic mut...   \n",
       "3685    4.0     VHL  The von Hippel-Lindau tumor suppressor protein...   \n",
       "3686    6.0  MAP2K1  Genetic alterations that activate the mitogen-...   \n",
       "3687    4.0     ATM   Abstract The functional consequences of misse...   \n",
       "3688    1.0    TP53  The transcription factor and tumor suppressor ...   \n",
       "\n",
       "                   Variation  \n",
       "0       Truncating Mutations  \n",
       "1                      W802*  \n",
       "2                      Q249E  \n",
       "3                      N454D  \n",
       "4                      L399V  \n",
       "5                      V391I  \n",
       "6                      V430M  \n",
       "7                   Deletion  \n",
       "8                      Y371H  \n",
       "9                      C384R  \n",
       "10                     P395A  \n",
       "11                     K382E  \n",
       "12                     R420Q  \n",
       "13                     C381A  \n",
       "14                     P428L  \n",
       "15                     D390Y  \n",
       "16      Truncating Mutations  \n",
       "17                     Q367P  \n",
       "18                     M374V  \n",
       "19                     Y371S  \n",
       "20                      H94Y  \n",
       "21                     C396R  \n",
       "22                     G375P  \n",
       "23                     S376F  \n",
       "24                     P417A  \n",
       "25                     H398Y  \n",
       "26                       S2G  \n",
       "27                     Y846C  \n",
       "28                     C228T  \n",
       "29                     H412Y  \n",
       "...                      ...  \n",
       "3659                   W281C  \n",
       "3660                   C176R  \n",
       "3661                   N549H  \n",
       "3662                  F1174C  \n",
       "3663            X1006_splice  \n",
       "3664                   G333C  \n",
       "3665                   V272M  \n",
       "3666  CDK5RAP2-PDGFRA Fusion  \n",
       "3667                Deletion  \n",
       "3668                Deletion  \n",
       "3669                   Q257R  \n",
       "3670                   R498W  \n",
       "3671                   R130Q  \n",
       "3672      K602_W603insYEYDLK  \n",
       "3673                   I538F  \n",
       "3674          D286_L292trunc  \n",
       "3675        BCAM-AKT2 Fusion  \n",
       "3676                 V560del  \n",
       "3677                   E511K  \n",
       "3678                    G34A  \n",
       "3679                    D32G  \n",
       "3680                  P1812A  \n",
       "3681                    D29N  \n",
       "3682                   G129D  \n",
       "3683                   L115P  \n",
       "3684                   S251N  \n",
       "3685                    N90I  \n",
       "3686                   H119P  \n",
       "3687                  V2424G  \n",
       "3688                   G245C  \n",
       "\n",
       "[3689 rows x 4 columns]"
      ]
     },
     "execution_count": 241,
     "metadata": {},
     "output_type": "execute_result"
    }
   ],
   "source": [
    "stage_2_train"
   ]
  },
  {
   "cell_type": "code",
   "execution_count": 242,
   "metadata": {
    "scrolled": false
   },
   "outputs": [
    {
     "data": {
      "text/plain": [
       "<matplotlib.axes._subplots.AxesSubplot at 0x7fc81dfd76a0>"
      ]
     },
     "execution_count": 242,
     "metadata": {},
     "output_type": "execute_result"
    },
    {
     "data": {
      "image/png": "[encoded data removed]",
      "text/plain": [
       "<matplotlib.figure.Figure at 0x7fc8252e42b0>"
      ]
     },
     "metadata": {},
     "output_type": "display_data"
    }
   ],
   "source": [
    "plt.figure(figsize=(12,8))\n",
    "stage_2_train.groupby('Class')['Class'].count().plot(kind='bar')"
   ]
  }
 ],
 "metadata": {
  "kernelspec": {
   "display_name": "Python 3",
   "language": "python",
   "name": "python3"
  },
  "language_info": {
   "codemirror_mode": {
    "name": "ipython",
    "version": 3
   },
   "file_extension": ".py",
   "mimetype": "text/x-python",
   "name": "python",
   "nbconvert_exporter": "python",
   "pygments_lexer": "ipython3",
   "version": "3.5.2"
  }
 },
 "nbformat": 4,
 "nbformat_minor": 2
}
