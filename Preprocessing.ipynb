{
 "cells": [
  {
   "cell_type": "code",
   "execution_count": 13,
   "metadata": {},
   "outputs": [],
   "source": [
    "import numpy as np\n",
    "import pandas as pd\n",
    "import matplotlib.pyplot as plt\n",
    "from sklearn.feature_extraction.text import TfidfVectorizer\n",
    "from sklearn.decomposition import TruncatedSVD\n",
    "\n",
    "%matplotlib inline"
   ]
  },
  {
   "cell_type": "code",
   "execution_count": 14,
   "metadata": {},
   "outputs": [],
   "source": [
    "train_variants = pd.read_csv(\"data/training_variants\")\n",
    "test_variants = pd.read_csv(\"data/test_variants\")\n",
    "\n",
    "train_text = pd.read_csv(\"data/training_text\", sep=\"\\|\\|\", engine='python', header=None, skiprows=1,names=[\"ID\",\"Text\"])\n",
    "test_text = pd.read_csv(\"data/test_text\", sep=\"\\|\\|\", engine='python', header=None, skiprows=1,names=[\"ID\",\"Text\"])"
   ]
  },
  {
   "cell_type": "code",
   "execution_count": 15,
   "metadata": {},
   "outputs": [],
   "source": [
    "train = pd.merge(train_variants, train_text, how='left', on='ID')\n",
    "train_y = train['Class'].values # Extract label as the expected output\n",
    "train_x = train.drop('Class', axis=1) # Remove labels from the input"
   ]
  },
  {
   "cell_type": "code",
   "execution_count": 16,
   "metadata": {},
   "outputs": [],
   "source": [
    "test_x = pd.merge(test_variants, test_text, how='left', on='ID')"
   ]
  },
  {
   "cell_type": "code",
   "execution_count": 17,
   "metadata": {},
   "outputs": [
    {
     "name": "stdout",
     "output_type": "stream",
     "text": [
      "Train variants\t (3321, 4)\n",
      "Test variants\t (5668, 3)\n",
      "Train text\t (3321, 2)\n",
      "Test text\t (5668, 2)\n"
     ]
    }
   ],
   "source": [
    "print(\"Train variants\\t\",train_variants.shape)\n",
    "print(\"Test variants\\t\",test_variants.shape)\n",
    "print(\"Train text\\t\", train_text.shape)\n",
    "print(\"Test text\\t\", test_text.shape)"
   ]
  },
  {
   "cell_type": "markdown",
   "metadata": {},
   "source": [
    "### Concat for entire corpus"
   ]
  },
  {
   "cell_type": "code",
   "execution_count": 18,
   "metadata": {},
   "outputs": [
    {
     "data": {
      "text/html": [
       "<div>\n",
       "<style>\n",
       "    .dataframe thead tr:only-child th {\n",
       "        text-align: right;\n",
       "    }\n",
       "\n",
       "    .dataframe thead th {\n",
       "        text-align: left;\n",
       "    }\n",
       "\n",
       "    .dataframe tbody tr th {\n",
       "        vertical-align: top;\n",
       "    }\n",
       "</style>\n",
       "<table border=\"1\" class=\"dataframe\">\n",
       "  <thead>\n",
       "    <tr style=\"text-align: right;\">\n",
       "      <th></th>\n",
       "      <th>ID</th>\n",
       "      <th>Gene</th>\n",
       "      <th>Variation</th>\n",
       "      <th>Text</th>\n",
       "    </tr>\n",
       "  </thead>\n",
       "  <tbody>\n",
       "    <tr>\n",
       "      <th>0</th>\n",
       "      <td>0</td>\n",
       "      <td>FAM58A</td>\n",
       "      <td>Truncating Mutations</td>\n",
       "      <td>Cyclin-dependent kinases (CDKs) regulate a var...</td>\n",
       "    </tr>\n",
       "    <tr>\n",
       "      <th>1</th>\n",
       "      <td>1</td>\n",
       "      <td>CBL</td>\n",
       "      <td>W802*</td>\n",
       "      <td>Abstract Background  Non-small cell lung canc...</td>\n",
       "    </tr>\n",
       "    <tr>\n",
       "      <th>2</th>\n",
       "      <td>2</td>\n",
       "      <td>CBL</td>\n",
       "      <td>Q249E</td>\n",
       "      <td>Abstract Background  Non-small cell lung canc...</td>\n",
       "    </tr>\n",
       "    <tr>\n",
       "      <th>3</th>\n",
       "      <td>3</td>\n",
       "      <td>CBL</td>\n",
       "      <td>N454D</td>\n",
       "      <td>Recent evidence has demonstrated that acquired...</td>\n",
       "    </tr>\n",
       "    <tr>\n",
       "      <th>4</th>\n",
       "      <td>4</td>\n",
       "      <td>CBL</td>\n",
       "      <td>L399V</td>\n",
       "      <td>Oncogenic mutations in the monomeric Casitas B...</td>\n",
       "    </tr>\n",
       "  </tbody>\n",
       "</table>\n",
       "</div>"
      ],
      "text/plain": [
       "  ID    Gene             Variation  \\\n",
       "0  0  FAM58A  Truncating Mutations   \n",
       "1  1     CBL                 W802*   \n",
       "2  2     CBL                 Q249E   \n",
       "3  3     CBL                 N454D   \n",
       "4  4     CBL                 L399V   \n",
       "\n",
       "                                                Text  \n",
       "0  Cyclin-dependent kinases (CDKs) regulate a var...  \n",
       "1   Abstract Background  Non-small cell lung canc...  \n",
       "2   Abstract Background  Non-small cell lung canc...  \n",
       "3  Recent evidence has demonstrated that acquired...  \n",
       "4  Oncogenic mutations in the monomeric Casitas B...  "
      ]
     },
     "execution_count": 18,
     "metadata": {},
     "output_type": "execute_result"
    }
   ],
   "source": [
    "df_all = np.concatenate((train_x, test_x), axis=0)\n",
    "df_all = pd.DataFrame(df_all) # DataFrame docs: https://pandas.pydata.org/pandas-docs/stable/api.html#dataframe\n",
    "df_all.columns = [\"ID\", \"Gene\", \"Variation\", \"Text\"]\n",
    "df_all.head()"
   ]
  },
  {
   "cell_type": "markdown",
   "metadata": {},
   "source": [
    "Using [TF IDF](http://scikit-larn.org/stable/modules/generated/sklearn.feature_extraction.text.TfidfVectorizer.html) for vects"
   ]
  },
  {
   "cell_type": "code",
   "execution_count": 19,
   "metadata": {
    "scrolled": false
   },
   "outputs": [
    {
     "name": "stdout",
     "output_type": "stream",
     "text": [
      "(8989,)\n"
     ]
    },
    {
     "data": {
      "text/plain": [
       "'Cyclin-dependent kinases (CDKs) regulate a variety of fundamental cellular processes. CDK10 stands out as one of the last orphan CDKs for which no activating cyclin has been identified and no kinase activity revealed. Previous work has shown that CDK10 silencing increases ETS2 (v-ets erythroblastosis virus E26 oncogene homolog 2)-driven activation of the MAPK pathway, which confers tamoxifen resistance to breast cancer cells. The precise mechanisms by which CDK10 modulates ETS2 activity, and more generally the functions of CDK10, remain elusive. Here we demonstrate that CDK10 is a cyclin-dependent kinase by identifying cyclin M as an activating cyclin. Cyclin M, an orphan cyclin, is the product of FAM58A, whose mutations cause STAR syndrome, a human developmental anomaly whose features include toe syndactyly, telecanthus, and anogenital and renal malformations. We show that STAR syndrome-associated cyclin M mutants are unable to interact with CDK10. Cyclin M silencing phenocopies CDK10 silencing in increasing c-Raf and in conferring tamoxifen resistance to breast cancer cells. CDK10/cyclin M phosphorylates ETS2 in vitro, and in cells it positively controls ETS2 degradation by the proteasome. ETS2 protein levels are increased in cells derived from a STAR patient, and this increase is attributable to decreased cyclin M levels. Altogether, our results reveal an additional regulatory mechanism for ETS2, which plays key roles in cancer and development. They also shed light on the molecular mechanisms underlying STAR syndrome.Cyclin-dependent kinases (CDKs) play a pivotal role in the control of a number of fundamental cellular processes (1). The human genome contains 21 genes encoding proteins that can be considered as members of the CDK family owing to their sequence similarity with bona fide CDKs, those known to be activated by cyclins (2). Although discovered almost 20 y ago (3, 4), CDK10 remains one of the two CDKs without an identified cyclin partner. This knowledge '"
      ]
     },
     "execution_count": 19,
     "metadata": {},
     "output_type": "execute_result"
    }
   ],
   "source": [
    "_sentences = df_all[\"Text\"]\n",
    "print(_sentences.shape)\n",
    "_sentences[0][:2000]"
   ]
  },
  {
   "cell_type": "code",
   "execution_count": 20,
   "metadata": {},
   "outputs": [],
   "source": [
    "vectorizer = TfidfVectorizer(stop_words='english',ngram_range=(1,3))\n",
    "#sentence_vectors = vectorizer.fit_transform(_sentences)"
   ]
  },
  {
   "cell_type": "code",
   "execution_count": 21,
   "metadata": {},
   "outputs": [],
   "source": [
    "#sentence_vectors.shape"
   ]
  },
  {
   "cell_type": "code",
   "execution_count": null,
   "metadata": {},
   "outputs": [],
   "source": []
  },
  {
   "cell_type": "markdown",
   "metadata": {},
   "source": [
    "* Use [TruncatedSVD](http://scikit-learn.org/stable/modules/generated/sklearn.decomposition.TruncatedSVD.html) to reduce dimensionality. ( in Scikit like [PCA](https://en.wikipedia.org/wiki/Principal_component_analysis), but here the values are not centered with the mean and SVD is more efficient as it operates directly on vals) \n",
    "* Currently Naive approach. Ideally check variance to guage.\n",
    "* Memory Limitations"
   ]
  },
  {
   "cell_type": "code",
   "execution_count": 25,
   "metadata": {},
   "outputs": [],
   "source": [
    "svd = TruncatedSVD(1000) # Output is of 500 dimensions, rather than 150,000\n",
    "#sentence_vectors = svd.fit_transform(sentence_vectors)\n",
    "sentence_vectors = np.load('ckpt/sentence_vectors_1000.npy')"
   ]
  },
  {
   "cell_type": "code",
   "execution_count": 31,
   "metadata": {
    "scrolled": true
   },
   "outputs": [
    {
     "data": {
      "text/plain": [
       "(3321, 1000)"
      ]
     },
     "execution_count": 31,
     "metadata": {},
     "output_type": "execute_result"
    }
   ],
   "source": [
    "sentence_vectors[:3321].shape"
   ]
  },
  {
   "cell_type": "code",
   "execution_count": 33,
   "metadata": {},
   "outputs": [],
   "source": [
    "from imblearn.over_sampling import SMOTE\n",
    "sm= SMOTE(kind='regular')\n",
    "X_res, y_res = sm.fit_sample(sentence_vectors[:3321], train['Class'].values)"
   ]
  },
  {
   "cell_type": "code",
   "execution_count": 29,
   "metadata": {},
   "outputs": [
    {
     "data": {
      "text/plain": [
       "(3321, 5)"
      ]
     },
     "execution_count": 29,
     "metadata": {},
     "output_type": "execute_result"
    }
   ],
   "source": [
    "train.shape"
   ]
  },
  {
   "cell_type": "code",
   "execution_count": 36,
   "metadata": {
    "scrolled": true
   },
   "outputs": [
    {
     "data": {
      "text/plain": [
       "array([[ 0.12773515, -0.02694339,  0.00718652, ..., -0.0162024 ,\n",
       "        -0.00071875, -0.01207516],\n",
       "       [ 0.25544886, -0.07542865, -0.04122826, ...,  0.00862814,\n",
       "         0.01448186, -0.01598449],\n",
       "       [ 0.25544886, -0.07542865, -0.04122826, ...,  0.00862814,\n",
       "         0.01448186, -0.01598449],\n",
       "       ..., \n",
       "       [ 0.1768925 , -0.02743709,  0.00028073, ...,  0.00109942,\n",
       "         0.0007514 ,  0.00087935],\n",
       "       [ 0.22420295, -0.03501699,  0.02450977, ...,  0.00400645,\n",
       "         0.00541945,  0.01057636],\n",
       "       [ 0.19966209, -0.03791755,  0.00956647, ..., -0.00382101,\n",
       "        -0.00211082,  0.00641996]])"
      ]
     },
     "execution_count": 36,
     "metadata": {},
     "output_type": "execute_result"
    }
   ],
   "source": [
    "X_res"
   ]
  },
  {
   "cell_type": "code",
   "execution_count": 54,
   "metadata": {},
   "outputs": [
    {
     "data": {
      "text/plain": [
       "array([1, 2, 2, ..., 9, 9, 9])"
      ]
     },
     "execution_count": 54,
     "metadata": {},
     "output_type": "execute_result"
    }
   ],
   "source": [
    "y_res"
   ]
  },
  {
   "cell_type": "code",
   "execution_count": 53,
   "metadata": {},
   "outputs": [
    {
     "data": {
      "text/plain": [
       "array([1, 2, 2, ..., 1, 4, 4])"
      ]
     },
     "execution_count": 53,
     "metadata": {},
     "output_type": "execute_result"
    }
   ],
   "source": [
    "train_y"
   ]
  },
  {
   "cell_type": "raw",
   "metadata": {},
   "source": []
  },
  {
   "cell_type": "code",
   "execution_count": 41,
   "metadata": {},
   "outputs": [],
   "source": [
    "df = pd.DataFrame({'Class':y_res})"
   ]
  },
  {
   "cell_type": "code",
   "execution_count": 48,
   "metadata": {},
   "outputs": [
    {
     "data": {
      "text/plain": [
       "<matplotlib.axes._subplots.AxesSubplot at 0x7f67da833128>"
      ]
     },
     "execution_count": 48,
     "metadata": {},
     "output_type": "execute_result"
    },
    {
     "data": {
      "image/png": "[encoded data removed]",
      "text/plain": [
       "<matplotlib.figure.Figure at 0x7f67da84e358>"
      ]
     },
     "metadata": {},
     "output_type": "display_data"
    }
   ],
   "source": [
    "df.groupby('Class')['Class'].count().plot(kind='bar')"
   ]
  },
  {
   "cell_type": "code",
   "execution_count": null,
   "metadata": {},
   "outputs": [],
   "source": []
  },
  {
   "cell_type": "code",
   "execution_count": null,
   "metadata": {},
   "outputs": [],
   "source": [
    "train_variants.groupby('Class')['Class'].count().plot(kind='bar')"
   ]
  },
  {
   "cell_type": "code",
   "execution_count": null,
   "metadata": {},
   "outputs": [],
   "source": [
    "import os\n",
    "if 'ckpt' not in os.listdir():\n",
    "    os.mkdir('ckpt')\n",
    "#np.save(\"ckpt/sentence_vectors_1000.npy\", sentence_vectors)\n"
   ]
  },
  {
   "cell_type": "code",
   "execution_count": 49,
   "metadata": {},
   "outputs": [
    {
     "name": "stderr",
     "output_type": "stream",
     "text": [
      "Using TensorFlow backend.\n"
     ]
    }
   ],
   "source": [
    "from keras.models import Sequential\n",
    "from keras.layers import Dense\n",
    "from keras.layers import Dropout\n",
    "from keras.wrappers.scikit_learn import KerasClassifier\n",
    "from keras.utils import np_utils\n",
    "from keras import regularizers\n",
    "import pickle"
   ]
  },
  {
   "cell_type": "code",
   "execution_count": 50,
   "metadata": {},
   "outputs": [],
   "source": [
    "def fully_connected_model():\n",
    "    model = Sequential()\n",
    "    model.add(Dense(512, input_shape=(1000,), kernel_initializer='truncated_normal', activation='relu',\n",
    "                    kernel_regularizer=regularizers.l2(0.01),\n",
    "                    activity_regularizer=regularizers.l1(0.01)))\n",
    "    model.add(Dropout(0.6))\n",
    "    model.add(Dense(512, kernel_initializer='truncated_normal', activation='relu', \n",
    "                    kernel_regularizer=regularizers.l2(0.01),\n",
    "                    activity_regularizer=regularizers.l1(0.01)))\n",
    "    model.add(Dropout(0.6))\n",
    "    model.add(Dense(256, kernel_initializer='truncated_normal', activation='relu',\n",
    "                    kernel_regularizer=regularizers.l2(0.01),\n",
    "                    activity_regularizer=regularizers.l1(0.01)))\n",
    "    model.add(Dropout(0.6))\n",
    "    model.add(Dense(128, kernel_initializer='truncated_normal', activation='relu',\n",
    "                    kernel_regularizer=regularizers.l2(0.01),\n",
    "                    activity_regularizer=regularizers.l1(0.01)))\n",
    "    model.add(Dropout(0.6))\n",
    "    model.add(Dense(9, init='truncated_normal', activation='softmax'))\n",
    "    model.compile(loss='categorical_crossentropy', optimizer='adam', metrics=['accuracy'])\n",
    "    return model"
   ]
  },
  {
   "cell_type": "code",
   "execution_count": 51,
   "metadata": {},
   "outputs": [],
   "source": [
    "from keras.utils import np_utils\n",
    "from sklearn.preprocessing import LabelEncoder"
   ]
  },
  {
   "cell_type": "code",
   "execution_count": 55,
   "metadata": {},
   "outputs": [
    {
     "name": "stdout",
     "output_type": "stream",
     "text": [
      "[1 2 3 4 5 6 7 8 9]\n"
     ]
    },
    {
     "data": {
      "text/plain": [
       "array([0, 1, 2, 3, 4, 5, 6, 7, 8])"
      ]
     },
     "execution_count": 55,
     "metadata": {},
     "output_type": "execute_result"
    }
   ],
   "source": [
    "encoder = LabelEncoder()\n",
    "encoder.fit(y_res) # train_y -> y_res \n",
    "print(encoder.classes_) # Comes up with classes 1-9\n",
    "\n",
    "encoded_y = encoder.transform(y_res) # train_y -> y_res Transforms training labels to 0-8\n",
    "np.unique(encoded_y)"
   ]
  },
  {
   "cell_type": "code",
   "execution_count": 56,
   "metadata": {},
   "outputs": [
    {
     "data": {
      "text/plain": [
       "(8577, 9)"
      ]
     },
     "execution_count": 56,
     "metadata": {},
     "output_type": "execute_result"
    }
   ],
   "source": [
    "onehot_y = np_utils.to_categorical(encoded_y)\n",
    "onehot_y.shape"
   ]
  },
  {
   "cell_type": "code",
   "execution_count": 58,
   "metadata": {},
   "outputs": [
    {
     "name": "stdout",
     "output_type": "stream",
     "text": [
      "(8577, 1000)\n"
     ]
    }
   ],
   "source": [
    "train_sentence_vectors = X_res\n",
    "print(train_sentence_vectors.shape)"
   ]
  },
  {
   "cell_type": "code",
   "execution_count": 59,
   "metadata": {},
   "outputs": [],
   "source": [
    "num_epochs = 10"
   ]
  },
  {
   "cell_type": "code",
   "execution_count": 60,
   "metadata": {},
   "outputs": [],
   "source": [
    "estimator = KerasClassifier(build_fn=fully_connected_model, epochs=num_epochs, batch_size=128)"
   ]
  },
  {
   "cell_type": "code",
   "execution_count": null,
   "metadata": {},
   "outputs": [],
   "source": [
    "latest_model_filename = 'estimator_%d.sav' % num_epochs\n",
    "estimator = pickle.load(open(latest_model_filename, 'rb'))"
   ]
  },
  {
   "cell_type": "code",
   "execution_count": 61,
   "metadata": {},
   "outputs": [
    {
     "name": "stderr",
     "output_type": "stream",
     "text": [
      "/home/xipher/Projects/ml/lib/python3.5/site-packages/ipykernel_launcher.py:19: UserWarning: Update your `Dense` call to the Keras 2 API: `Dense(9, activation=\"softmax\", kernel_initializer=\"truncated_normal\")`\n"
     ]
    },
    {
     "name": "stdout",
     "output_type": "stream",
     "text": [
      "Train on 7290 samples, validate on 1287 samples\n",
      "Epoch 1/10\n",
      "7290/7290 [==============================] - 15s - loss: 19.2967 - acc: 0.1277 - val_loss: 10.0283 - val_acc: 0.0000e+00\n",
      "Epoch 2/10\n",
      "7290/7290 [==============================] - 1s - loss: 6.8394 - acc: 0.1287 - val_loss: 4.8480 - val_acc: 0.0000e+00\n",
      "Epoch 3/10\n",
      "7290/7290 [==============================] - 1s - loss: 3.7576 - acc: 0.1307 - val_loss: 3.2991 - val_acc: 0.0000e+00\n",
      "Epoch 4/10\n",
      "7290/7290 [==============================] - 1s - loss: 2.7649 - acc: 0.1274 - val_loss: 2.8059 - val_acc: 0.0000e+00\n",
      "Epoch 5/10\n",
      "7290/7290 [==============================] - 1s - loss: 2.4075 - acc: 0.1272 - val_loss: 2.6524 - val_acc: 0.0000e+00\n",
      "Epoch 6/10\n",
      "7290/7290 [==============================] - 1s - loss: 2.2655 - acc: 0.1281 - val_loss: 2.6182 - val_acc: 0.0000e+00\n",
      "Epoch 7/10\n",
      "7290/7290 [==============================] - 1s - loss: 2.2040 - acc: 0.1299 - val_loss: 2.6300 - val_acc: 0.0000e+00\n",
      "Epoch 8/10\n",
      "7290/7290 [==============================] - 1s - loss: 2.1745 - acc: 0.1307 - val_loss: 2.6589 - val_acc: 0.0000e+00\n",
      "Epoch 9/10\n",
      "7290/7290 [==============================] - 1s - loss: 2.1588 - acc: 0.1294 - val_loss: 2.6937 - val_acc: 0.0000e+00\n",
      "Epoch 10/10\n",
      "7290/7290 [==============================] - 0s - loss: 2.1493 - acc: 0.1283 - val_loss: 2.7309 - val_acc: 0.0000e+00\n"
     ]
    }
   ],
   "source": [
    "history = estimator.fit(train_sentence_vectors, onehot_y, validation_split=0.15)"
   ]
  },
  {
   "cell_type": "code",
   "execution_count": 62,
   "metadata": {},
   "outputs": [
    {
     "name": "stdout",
     "output_type": "stream",
     "text": [
      "dict_keys(['val_acc', 'loss', 'val_loss', 'acc'])\n"
     ]
    },
    {
     "data": {
      "image/png": "[encoded data removed]",
      "text/plain": [
       "<matplotlib.figure.Figure at 0x7f67966df400>"
      ]
     },
     "metadata": {},
     "output_type": "display_data"
    },
    {
     "data": {
      "image/png": "[encoded data removed]",
      "text/plain": [
       "<matplotlib.figure.Figure at 0x7f6796709860>"
      ]
     },
     "metadata": {},
     "output_type": "display_data"
    }
   ],
   "source": [
    "print(history.history.keys())\n",
    "#  \"Accuracy\"\n",
    "plt.plot(history.history['acc'])\n",
    "plt.plot(history.history['val_acc'])\n",
    "plt.title('model accuracy')\n",
    "plt.ylabel('accuracy')\n",
    "plt.xlabel('epoch')\n",
    "plt.legend(['train', 'validation'], loc='upper left')\n",
    "plt.show()\n",
    "# \"Loss\"\n",
    "plt.plot(history.history['loss'])\n",
    "plt.plot(history.history['val_loss'])\n",
    "plt.title('model loss')\n",
    "plt.ylabel('loss')\n",
    "plt.xlabel('epoch')\n",
    "plt.legend(['train', 'validation'], loc='upper left')\n",
    "plt.show()"
   ]
  },
  {
   "cell_type": "code",
   "execution_count": null,
   "metadata": {},
   "outputs": [],
   "source": []
  }
 ],
 "metadata": {
  "kernelspec": {
   "display_name": "Python 3",
   "language": "python",
   "name": "python3"
  },
  "language_info": {
   "codemirror_mode": {
    "name": "ipython",
    "version": 3
   },
   "file_extension": ".py",
   "mimetype": "text/x-python",
   "name": "python",
   "nbconvert_exporter": "python",
   "pygments_lexer": "ipython3",
   "version": "3.5.2"
  }
 },
 "nbformat": 4,
 "nbformat_minor": 2
}
