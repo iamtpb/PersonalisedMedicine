{
 "cells": [
  {
   "cell_type": "markdown",
   "metadata": {},
   "source": [
    "## Ongoing Steps"
   ]
  },
  {
   "cell_type": "markdown",
   "metadata": {},
   "source": [
    "Exploring this NOTE by Iker (Kaggle):\n\t\"You should definitely use the 'Gene' and 'Variation' as part of your input features. This information is key for this challenge.\n",
    "\t A gene can have thousands of different point mutations. Some of them matter for a specific type of cancer, e.g. EGFR for Breast Cancer, and some others don't matter at all. A point mutation just represent a nucleotide change, there is an adenine (A) where there should be a cytosine (C) for instance. And these can happen in multiple genes as well.\n",
    "\t But a pair of Gene and Variation, define a set of specific genomic coordinates. For instance, PIK3CA, H1047R, means that if you pick the gene PIK3CA and start counting from the beginning. The codon (triplets of nucleotides) number 1047, Histidine is changed to a Arginine\n",
    "\t Therefore, a gene name or a variation name can be repeated in multiple rows, both in the training and the test sets. A Gene and Variation pair is unique and only appears once across both data sets\n",
    "\t These are a couple of videos that explain some of the basis of genes and mutations \"\n",
    "* Paul Andersen about Genetic Mutations: https://www.youtube.com/watch?v=qxXRKVompI8\n",
    "\n",
    "* Foundation Medicine's Cancer Explained: https://www.youtube.com/watch?v=UwbuW7oK8rk\n",
    "* Implement Feature specific model for Gene and Variation \n",
    "* Stacking multiple smaller models would likely yield better results\n",
    "* SMOTE experiment: The variance lost is too much. Think about this one.\n",
    "\t* Before SVD or After SVD? experiment.\n",
    "\t* SMOTE Tunables to be explored for tuning.\n",
    "* Learn more about this domain to process Text better.\n",
    "* Gain insights on interplay of Gene, Variation and Text further\n",
    "* Stacking of multiple different models for classification\n",
    "* Analysis and implementation of stacking architecture. Key reference: [Text Classification Winner: Kaggle Tradeshift](https://github.com/daxiongshu/tradeshift-text-classification/blob/master/TradeshiftTextClassification.pdf) "
   ]
  },
  {
   "cell_type": "markdown",
   "metadata": {},
   "source": [
    "## To be done\n",
    "\n",
    "* Try using LightGBM\n",
    "* Optimize the TfIdf Tunables\n",
    "* Experiment with Word2Vec\n",
    "* Implement a better RNN Model\n",
    "* Work with all genes, as generalisation shouldnt be an issue\n",
    "* Try tackling imbalance by other ML mechanisms"
   ]
  },
  {
   "cell_type": "markdown",
   "metadata": {},
   "source": [
    "## Issues\n",
    "* Requires a ton of memory\n",
    "* Data Quality concern\n",
    "* Time constraint\n",
    "* Ensembling training resources"
   ]
  },
  {
   "cell_type": "code",
   "execution_count": null,
   "metadata": {},
   "outputs": [],
   "source": []
  }
 ],
 "metadata": {
  "kernelspec": {
   "display_name": "Python 3",
   "language": "python",
   "name": "python3"
  },
  "language_info": {
   "codemirror_mode": {
    "name": "ipython",
    "version": 3
   },
   "file_extension": ".py",
   "mimetype": "text/x-python",
   "name": "python",
   "nbconvert_exporter": "python",
   "pygments_lexer": "ipython3",
   "version": "3.5.2"
  }
 },
 "nbformat": 4,
 "nbformat_minor": 2
}
