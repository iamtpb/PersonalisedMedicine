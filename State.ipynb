{
 "cells": [
  {
   "cell_type": "markdown",
   "metadata": {},
   "source": [
    "## Ongoing Steps"
   ]
  },
  {
   "cell_type": "markdown",
   "metadata": {},
   "source": [
    "* Implement Feature specific model for Gene and Variation \n",
    "* Stacking multiple smaller models would likely yield better results\n",
    "* SMOTE experiment: The variance lost is too much. Think about this one.\n",
    "\t* Before SVD or After SVD? experiment.\n",
    "\t* SMOTE Tunables to be explored for tuning.\n",
    "* Learn more about this domain to process Text better.\n",
    "* Gain insights on interplay of Gene, Variation and Text further\n",
    "* Stacking of multiple different models for classification\n",
    "* Analysis and implementation of stacking architecture. Key reference: [Text Classification Winner: Kaggle Tradeshift](https://github.com/daxiongshu/tradeshift-text-classification/blob/master/TradeshiftTextClassification.pdf) "
   ]
  },
  {
   "cell_type": "markdown",
   "metadata": {},
   "source": [
    "## To be done\n",
    "\n",
    "* Try using LightGBM\n",
    "* Optimize the TfIdf Tunables\n",
    "* Experiment with Word2Vec\n",
    "* Implement a better RNN Model\n",
    "* Work with all genes, as generalisation shouldnt be an issue\n",
    "* Try tackling imbalance by other ML mechanisms"
   ]
  },
  {
   "cell_type": "markdown",
   "metadata": {},
   "source": [
    "## Issues\n",
    "* Requires a ton of memory\n",
    "* Data Quality concern\n",
    "* Time constraint\n",
    "* Ensembling training resources"
   ]
  },
  {
   "cell_type": "code",
   "execution_count": null,
   "metadata": {},
   "outputs": [],
   "source": []
  }
 ],
 "metadata": {
  "kernelspec": {
   "display_name": "Python 3",
   "language": "python",
   "name": "python3"
  },
  "language_info": {
   "codemirror_mode": {
    "name": "ipython",
    "version": 3
   },
   "file_extension": ".py",
   "mimetype": "text/x-python",
   "name": "python",
   "nbconvert_exporter": "python",
   "pygments_lexer": "ipython3",
   "version": "3.5.2"
  }
 },
 "nbformat": 4,
 "nbformat_minor": 2
}
