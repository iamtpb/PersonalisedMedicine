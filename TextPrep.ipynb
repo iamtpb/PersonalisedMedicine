{
 "cells": [
  {
   "cell_type": "code",
   "execution_count": 1,
   "metadata": {},
   "outputs": [
    {
     "name": "stdout",
     "output_type": "stream",
     "text": [
      "[nltk_data] Downloading package stopwords to /home/xipher/nltk_data...\n",
      "[nltk_data]   Package stopwords is already up-to-date!\n"
     ]
    }
   ],
   "source": [
    "import re\n",
    "import string\n",
    "from nltk.corpus import stopwords\n",
    "from nltk.stem.snowball import SnowballStemmer\n",
    "from nltk.stem import PorterStemmer \n",
    "import pandas as pd\n",
    "import numpy as np\n",
    "import nltk\n",
    "import matplotlib.pyplot as plt\n",
    "nltk.download('stopwords')\n",
    "%matplotlib inline"
   ]
  },
  {
   "cell_type": "code",
   "execution_count": 2,
   "metadata": {},
   "outputs": [],
   "source": [
    "train = pd.read_pickle('df_train')\n",
    "test = pd.read_pickle('df_test')"
   ]
  },
  {
   "cell_type": "code",
   "execution_count": 4,
   "metadata": {},
   "outputs": [],
   "source": [
    "train_text['len'] = train_text['Text'].apply(lambda x : len(x.split()))"
   ]
  },
  {
   "cell_type": "code",
   "execution_count": 5,
   "metadata": {},
   "outputs": [
    {
     "data": {
      "image/png": "[encoded data removed]",
      "text/plain": [
       "<matplotlib.figure.Figure at 0x7fe5c8370400>"
      ]
     },
     "metadata": {},
     "output_type": "display_data"
    }
   ],
   "source": [
    "train['len'] = train['Text'].apply(lambda x : len(x.split()))\n",
    "plt.figure(figsize=(12,8))\n",
    "train['len'].plot.hist(bins=50)\n",
    "plt.xlabel('Length of text')\n",
    "plt.show()"
   ]
  },
  {
   "cell_type": "code",
   "execution_count": 6,
   "metadata": {},
   "outputs": [],
   "source": [
    "def textClean(text):\n",
    "    text = re.sub(r\"[^A-Za-z0-9^,!.\\/'+-=]\", \" \", text)\n",
    "    text = text.lower().split()\n",
    "    stops = set(stopwords.words(\"english\"))\n",
    "    text = [w for w in text if not w in stops]    \n",
    "    text = \" \".join(text)\n",
    "    return(text)\n",
    "    \n",
    "def stem(text):\n",
    "    stemmed = \"\"\n",
    "    for word in text.split(\" \"):\n",
    "        wordx = PorterStemmer().stem(word)\n",
    "        stemmed+=wordx\n",
    "        stemmed+=\" \"\n",
    "    return stemmed\n",
    "\n",
    "def cleanup(text):\n",
    "    text = textClean(text)\n",
    "    text = stem(text)\n",
    "    text= text.translate(str.maketrans(\"\",\"\", string.punctuation))\n",
    "    return text"
   ]
  },
  {
   "cell_type": "code",
   "execution_count": 7,
   "metadata": {},
   "outputs": [],
   "source": [
    "train['sText'] = train['Text'].apply(cleanup)"
   ]
  },
  {
   "cell_type": "code",
   "execution_count": 15,
   "metadata": {},
   "outputs": [],
   "source": [
    "test['sText'] = test['Text'].apply(cleanup)"
   ]
  },
  {
   "cell_type": "code",
   "execution_count": 9,
   "metadata": {},
   "outputs": [
    {
     "data": {
      "text/plain": [
       "0       Cyclin-dependent kinases (CDKs) regulate a var...\n",
       "1        Abstract Background  Non-small cell lung canc...\n",
       "2        Abstract Background  Non-small cell lung canc...\n",
       "3       Recent evidence has demonstrated that acquired...\n",
       "4       Oncogenic mutations in the monomeric Casitas B...\n",
       "5       Oncogenic mutations in the monomeric Casitas B...\n",
       "6       Oncogenic mutations in the monomeric Casitas B...\n",
       "7       CBL is a negative regulator of activated recep...\n",
       "8        Abstract Juvenile myelomonocytic leukemia (JM...\n",
       "9        Abstract Juvenile myelomonocytic leukemia (JM...\n",
       "10      Oncogenic mutations in the monomeric Casitas B...\n",
       "11      Noonan syndrome is an autosomal dominant conge...\n",
       "12      Noonan syndrome is an autosomal dominant conge...\n",
       "13      Noonan syndrome is an autosomal dominant conge...\n",
       "14      Oncogenic mutations in the monomeric Casitas B...\n",
       "15      Noonan syndrome is an autosomal dominant conge...\n",
       "16      To determine if residual cylindrical refractiv...\n",
       "17      Acquired uniparental disomy (aUPD) is a common...\n",
       "18      Oncogenic mutations in the monomeric Casitas B...\n",
       "19      Acquired uniparental disomy (aUPD) is a common...\n",
       "20       Abstract Background  Non-small cell lung canc...\n",
       "21      Oncogenic mutations in the monomeric Casitas B...\n",
       "22      Oncogenic mutations in the monomeric Casitas B...\n",
       "23      Recent evidence has demonstrated that acquired...\n",
       "24      Recent evidence has demonstrated that acquired...\n",
       "25      Recent evidence has demonstrated that acquired...\n",
       "26       Abstract N-myristoylation is a common form of...\n",
       "27      Heterozygous mutations in the telomerase compo...\n",
       "28      Sequencing studies have identified many recurr...\n",
       "29      Heterozygous mutations in the telomerase compo...\n",
       "                              ...                        \n",
       "3659    Introduction Uncontrolled activation of the He...\n",
       "3660    More than half of all human cancers are associ...\n",
       "3661    We sought to identify fibroblast growth factor...\n",
       "3662    In the era of personalized medicine, understan...\n",
       "3663    Non–small cell lung cancer (NSCLC) is a diffic...\n",
       "3664    IκB kinase β (IKKβ) is involved in tumor devel...\n",
       "3665    The transcription factor and tumor suppressor ...\n",
       "3666    Chronic myeloproliferative disorders with rear...\n",
       "3667    Terminal deletions of chromosome 10p result in...\n",
       "3668    Mutations in the hepatocyte nuclear factor (HN...\n",
       "3669    The Ras/MAPK pathway is critical for human dev...\n",
       "3670    Elucidation of the molecular mechanisms underl...\n",
       "3671    The tumor suppressor gene PTEN is frequently m...\n",
       "3672    An internal tandem duplication (ITD) of the FL...\n",
       "3673    Frequent genetic alterations discovered in FGF...\n",
       "3674    The activities of cyclin D-dependent kinases s...\n",
       "3675    High-grade serous ovarian cancer (HGSC) is the...\n",
       "3676    To analyze a multi-institutional series of typ...\n",
       "3677    Context Most germline-activating mutations of ...\n",
       "3678    We screened 75 primary hepatocellular carcinom...\n",
       "3679    We screened 75 primary hepatocellular carcinom...\n",
       "3680     Abstract  The BRCA1 gene from individuals at ...\n",
       "3681    The Nrf2 (nuclear factor erythroid 2 [NF-E2]-r...\n",
       "3682    The PTEN (phosphatase and tensin homolog) phos...\n",
       "3683    Genetic alterations that activate the mitogen-...\n",
       "3684    The systematic characterization of somatic mut...\n",
       "3685    The von Hippel-Lindau tumor suppressor protein...\n",
       "3686    Genetic alterations that activate the mitogen-...\n",
       "3687     Abstract The functional consequences of misse...\n",
       "3688    The transcription factor and tumor suppressor ...\n",
       "Name: Text, Length: 3689, dtype: object"
      ]
     },
     "execution_count": 9,
     "metadata": {},
     "output_type": "execute_result"
    }
   ],
   "source": [
    "train['Text']"
   ]
  },
  {
   "cell_type": "code",
   "execution_count": 10,
   "metadata": {
    "scrolled": false
   },
   "outputs": [
    {
     "data": {
      "text/plain": [
       "0       cyclindepend kinas cdk regul varieti fundament...\n",
       "1       abstract background nonsmal cell lung cancer n...\n",
       "2       abstract background nonsmal cell lung cancer n...\n",
       "3       recent evid demonstr acquir uniparent disomi a...\n",
       "4       oncogen mutat monomer casita blineag lymphoma ...\n",
       "5       oncogen mutat monomer casita blineag lymphoma ...\n",
       "6       oncogen mutat monomer casita blineag lymphoma ...\n",
       "7       cbl neg regul activ receptor tyrosin kinas rtk...\n",
       "8       abstract juvenil myelomonocyt leukemia jmml ch...\n",
       "9       abstract juvenil myelomonocyt leukemia jmml ch...\n",
       "10      oncogen mutat monomer casita blineag lymphoma ...\n",
       "11      noonan syndrom autosom domin congenit disord e...\n",
       "12      noonan syndrom autosom domin congenit disord e...\n",
       "13      noonan syndrom autosom domin congenit disord e...\n",
       "14      oncogen mutat monomer casita blineag lymphoma ...\n",
       "15      noonan syndrom autosom domin congenit disord e...\n",
       "16      determin residu cylindr refract error cataract...\n",
       "17      acquir uniparent disomi aupd common featur can...\n",
       "18      oncogen mutat monomer casita blineag lymphoma ...\n",
       "19      acquir uniparent disomi aupd common featur can...\n",
       "20      abstract background nonsmal cell lung cancer n...\n",
       "21      oncogen mutat monomer casita blineag lymphoma ...\n",
       "22      oncogen mutat monomer casita blineag lymphoma ...\n",
       "23      recent evid demonstr acquir uniparent disomi a...\n",
       "24      recent evid demonstr acquir uniparent disomi a...\n",
       "25      recent evid demonstr acquir uniparent disomi a...\n",
       "26      abstract nmyristoyl common form cotransl prote...\n",
       "27      heterozyg mutat telomeras compon tert revers t...\n",
       "28      sequenc studi identifi mani recurr code mutat ...\n",
       "29      heterozyg mutat telomeras compon tert revers t...\n",
       "                              ...                        \n",
       "3659    introduct uncontrol activ hedgehog hh pathway ...\n",
       "3660    half human cancer associ oneor alter tumor sup...\n",
       "3661    sought identifi fibroblast growth factor recep...\n",
       "3662    era person medicine understand molecular drive...\n",
       "3663    non small cell lung cancer nsclc difficult dis...\n",
       "3664    b kinas ikk involv tumor develop progress acti...\n",
       "3665    transcript factor tumor suppressor protein p53...\n",
       "3666    chronic myeloprolif disord rearrang plateletde...\n",
       "3667    termin delet chromosom 10p result digeorgelik ...\n",
       "3668    mutat hepatocyt nuclear factor hnf 1 gene caus...\n",
       "3669    rasmapk pathway critic human develop play cent...\n",
       "3670    elucid molecular mechan underli carcinogenesi ...\n",
       "3671    tumor suppressor gene pten frequent mutat dive...\n",
       "3672    intern tandem duplic itd flt3 gene found nearl...\n",
       "3673    frequent genet alter discov fgfr evid implic d...\n",
       "3674    activ cyclin ddepend kinas serv integr extrace...\n",
       "3675    highgrad serou ovarian cancer hgsc common subt...\n",
       "3676    analyz multiinstitut seri type c thymic carcin...\n",
       "3677    context germlineactiv mutat ret protooncogen a...\n",
       "3678    screen 75 primari hepatocellular carcinoma som...\n",
       "3679    screen 75 primari hepatocellular carcinoma som...\n",
       "3680    abstract brca1 gene individu risk breast ovari...\n",
       "3681    nrf2 nuclear factor erythroid 2 nfe2 relat fac...\n",
       "3682    pten phosphatas tensin homolog phosphatas uniq...\n",
       "3683    genet alter activ mitogenactiv protein kinas m...\n",
       "3684    systemat character somat mutat cancer genom es...\n",
       "3685    von hippellindau tumor suppressor protein pvhl...\n",
       "3686    genet alter activ mitogenactiv protein kinas m...\n",
       "3687    abstract function consequ missens variant ofte...\n",
       "3688    transcript factor tumor suppressor protein p53...\n",
       "Name: sText, Length: 3689, dtype: object"
      ]
     },
     "execution_count": 10,
     "metadata": {},
     "output_type": "execute_result"
    }
   ],
   "source": [
    "train['sText']"
   ]
  },
  {
   "cell_type": "code",
   "execution_count": 11,
   "metadata": {},
   "outputs": [
    {
     "data": {
      "image/png": "[encoded data removed]",
      "text/plain": [
       "<matplotlib.figure.Figure at 0x7fe5c82f26d8>"
      ]
     },
     "metadata": {},
     "output_type": "display_data"
    }
   ],
   "source": [
    "train['slen'] = train['sText'].apply(lambda x : len(x.split()))\n",
    "plt.figure(figsize=(12,8))\n",
    "train['slen'].plot.hist(bins=50)\n",
    "plt.xlabel('Length of text')\n",
    "plt.show()"
   ]
  },
  {
   "cell_type": "code",
   "execution_count": 12,
   "metadata": {},
   "outputs": [
    {
     "data": {
      "text/plain": [
       "35420818"
      ]
     },
     "execution_count": 12,
     "metadata": {},
     "output_type": "execute_result"
    }
   ],
   "source": [
    "train['len'].sum()"
   ]
  },
  {
   "cell_type": "code",
   "execution_count": 14,
   "metadata": {},
   "outputs": [
    {
     "data": {
      "text/plain": [
       "23769050"
      ]
     },
     "execution_count": 14,
     "metadata": {},
     "output_type": "execute_result"
    }
   ],
   "source": [
    "train['slen'].sum()"
   ]
  },
  {
   "cell_type": "code",
   "execution_count": 17,
   "metadata": {},
   "outputs": [],
   "source": [
    "train.to_pickle('df_strain')"
   ]
  },
  {
   "cell_type": "code",
   "execution_count": 16,
   "metadata": {},
   "outputs": [],
   "source": [
    "test.to_pickle('df_stest')"
   ]
  }
 ],
 "metadata": {
  "kernelspec": {
   "display_name": "Python 3",
   "language": "python",
   "name": "python3"
  },
  "language_info": {
   "codemirror_mode": {
    "name": "ipython",
    "version": 3
   },
   "file_extension": ".py",
   "mimetype": "text/x-python",
   "name": "python",
   "nbconvert_exporter": "python",
   "pygments_lexer": "ipython3",
   "version": "3.5.2"
  }
 },
 "nbformat": 4,
 "nbformat_minor": 2
}
