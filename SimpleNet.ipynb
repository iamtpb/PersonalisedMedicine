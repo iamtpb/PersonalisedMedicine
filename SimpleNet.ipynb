{
 "cells": [
  {
   "cell_type": "code",
   "execution_count": 14,
   "metadata": {},
   "outputs": [],
   "source": [
    "import numpy as np\n",
    "import pandas as pd\n",
    "import matplotlib.pyplot as plt\n",
    "from sklearn.feature_extraction.text import TfidfVectorizer\n",
    "from sklearn.decomposition import TruncatedSVD\n",
    "\n",
    "%matplotlib inline"
   ]
  },
  {
   "cell_type": "code",
   "execution_count": 15,
   "metadata": {},
   "outputs": [],
   "source": [
    "train_variants = pd.read_csv(\"data/training_variants\")\n",
    "test_variants = pd.read_csv(\"data/test_variants\")\n",
    "\n",
    "train_text = pd.read_csv(\"data/training_text\", sep=\"\\|\\|\", engine='python', header=None, skiprows=1,names=[\"ID\",\"Text\"])\n",
    "test_text = pd.read_csv(\"data/test_text\", sep=\"\\|\\|\", engine='python', header=None, skiprows=1,names=[\"ID\",\"Text\"])"
   ]
  },
  {
   "cell_type": "code",
   "execution_count": 16,
   "metadata": {},
   "outputs": [],
   "source": [
    "train = pd.merge(train_variants, train_text, how='left', on='ID')\n",
    "train_y = train['Class'].values # Extract label as the expected output\n",
    "train_x = train.drop('Class', axis=1) # Remove labels from the input"
   ]
  },
  {
   "cell_type": "code",
   "execution_count": 17,
   "metadata": {},
   "outputs": [],
   "source": [
    "test_x = pd.merge(test_variants, test_text, how='left', on='ID')"
   ]
  },
  {
   "cell_type": "code",
   "execution_count": 18,
   "metadata": {},
   "outputs": [
    {
     "name": "stdout",
     "output_type": "stream",
     "text": [
      "Train variants\t (3321, 4)\n",
      "Test variants\t (5668, 3)\n",
      "Train text\t (3321, 2)\n",
      "Test text\t (5668, 2)\n"
     ]
    }
   ],
   "source": [
    "print(\"Train variants\\t\",train_variants.shape)\n",
    "print(\"Test variants\\t\",test_variants.shape)\n",
    "print(\"Train text\\t\", train_text.shape)\n",
    "print(\"Test text\\t\", test_text.shape)"
   ]
  },
  {
   "cell_type": "markdown",
   "metadata": {},
   "source": [
    "### Concat for entire corpus"
   ]
  },
  {
   "cell_type": "code",
   "execution_count": 19,
   "metadata": {},
   "outputs": [
    {
     "data": {
      "text/html": [
       "<div>\n",
       "<style>\n",
       "    .dataframe thead tr:only-child th {\n",
       "        text-align: right;\n",
       "    }\n",
       "\n",
       "    .dataframe thead th {\n",
       "        text-align: left;\n",
       "    }\n",
       "\n",
       "    .dataframe tbody tr th {\n",
       "        vertical-align: top;\n",
       "    }\n",
       "</style>\n",
       "<table border=\"1\" class=\"dataframe\">\n",
       "  <thead>\n",
       "    <tr style=\"text-align: right;\">\n",
       "      <th></th>\n",
       "      <th>ID</th>\n",
       "      <th>Gene</th>\n",
       "      <th>Variation</th>\n",
       "      <th>Text</th>\n",
       "    </tr>\n",
       "  </thead>\n",
       "  <tbody>\n",
       "    <tr>\n",
       "      <th>0</th>\n",
       "      <td>0</td>\n",
       "      <td>FAM58A</td>\n",
       "      <td>Truncating Mutations</td>\n",
       "      <td>Cyclin-dependent kinases (CDKs) regulate a var...</td>\n",
       "    </tr>\n",
       "    <tr>\n",
       "      <th>1</th>\n",
       "      <td>1</td>\n",
       "      <td>CBL</td>\n",
       "      <td>W802*</td>\n",
       "      <td>Abstract Background  Non-small cell lung canc...</td>\n",
       "    </tr>\n",
       "    <tr>\n",
       "      <th>2</th>\n",
       "      <td>2</td>\n",
       "      <td>CBL</td>\n",
       "      <td>Q249E</td>\n",
       "      <td>Abstract Background  Non-small cell lung canc...</td>\n",
       "    </tr>\n",
       "    <tr>\n",
       "      <th>3</th>\n",
       "      <td>3</td>\n",
       "      <td>CBL</td>\n",
       "      <td>N454D</td>\n",
       "      <td>Recent evidence has demonstrated that acquired...</td>\n",
       "    </tr>\n",
       "    <tr>\n",
       "      <th>4</th>\n",
       "      <td>4</td>\n",
       "      <td>CBL</td>\n",
       "      <td>L399V</td>\n",
       "      <td>Oncogenic mutations in the monomeric Casitas B...</td>\n",
       "    </tr>\n",
       "  </tbody>\n",
       "</table>\n",
       "</div>"
      ],
      "text/plain": [
       "  ID    Gene             Variation  \\\n",
       "0  0  FAM58A  Truncating Mutations   \n",
       "1  1     CBL                 W802*   \n",
       "2  2     CBL                 Q249E   \n",
       "3  3     CBL                 N454D   \n",
       "4  4     CBL                 L399V   \n",
       "\n",
       "                                                Text  \n",
       "0  Cyclin-dependent kinases (CDKs) regulate a var...  \n",
       "1   Abstract Background  Non-small cell lung canc...  \n",
       "2   Abstract Background  Non-small cell lung canc...  \n",
       "3  Recent evidence has demonstrated that acquired...  \n",
       "4  Oncogenic mutations in the monomeric Casitas B...  "
      ]
     },
     "execution_count": 19,
     "metadata": {},
     "output_type": "execute_result"
    }
   ],
   "source": [
    "df_all = np.concatenate((train_x, test_x), axis=0)\n",
    "df_all = pd.DataFrame(df_all) # DataFrame docs: https://pandas.pydata.org/pandas-docs/stable/api.html#dataframe\n",
    "df_all.columns = [\"ID\", \"Gene\", \"Variation\", \"Text\"]\n",
    "df_all.head()"
   ]
  },
  {
   "cell_type": "markdown",
   "metadata": {},
   "source": [
    "Using [TF IDF](http://scikit-larn.org/stable/modules/generated/sklearn.feature_extraction.text.TfidfVectorizer.html) for vects"
   ]
  },
  {
   "cell_type": "code",
   "execution_count": 20,
   "metadata": {
    "scrolled": false
   },
   "outputs": [
    {
     "name": "stdout",
     "output_type": "stream",
     "text": [
      "(8989,)\n"
     ]
    },
    {
     "data": {
      "text/plain": [
       "'Cyclin-dependent kinases (CDKs) regulate a variety of fundamental cellular processes. CDK10 stands out as one of the last orphan CDKs for which no activating cyclin has been identified and no kinase activity revealed. Previous work has shown that CDK10 silencing increases ETS2 (v-ets erythroblastosis virus E26 oncogene homolog 2)-driven activation of the MAPK pathway, which confers tamoxifen resistance to breast cancer cells. The precise mechanisms by which CDK10 modulates ETS2 activity, and more generally the functions of CDK10, remain elusive. Here we demonstrate that CDK10 is a cyclin-dependent kinase by identifying cyclin M as an activating cyclin. Cyclin M, an orphan cyclin, is the product of FAM58A, whose mutations cause STAR syndrome, a human developmental anomaly whose features include toe syndactyly, telecanthus, and anogenital and renal malformations. We show that STAR syndrome-associated cyclin M mutants are unable to interact with CDK10. Cyclin M silencing phenocopies CDK10 silencing in increasing c-Raf and in conferring tamoxifen resistance to breast cancer cells. CDK10/cyclin M phosphorylates ETS2 in vitro, and in cells it positively controls ETS2 degradation by the proteasome. ETS2 protein levels are increased in cells derived from a STAR patient, and this increase is attributable to decreased cyclin M levels. Altogether, our results reveal an additional regulatory mechanism for ETS2, which plays key roles in cancer and development. They also shed light on the molecular mechanisms underlying STAR syndrome.Cyclin-dependent kinases (CDKs) play a pivotal role in the control of a number of fundamental cellular processes (1). The human genome contains 21 genes encoding proteins that can be considered as members of the CDK family owing to their sequence similarity with bona fide CDKs, those known to be activated by cyclins (2). Although discovered almost 20 y ago (3, 4), CDK10 remains one of the two CDKs without an identified cyclin partner. This knowledge '"
      ]
     },
     "execution_count": 20,
     "metadata": {},
     "output_type": "execute_result"
    }
   ],
   "source": [
    "_sentences = df_all[\"Text\"]\n",
    "print(_sentences.shape)\n",
    "_sentences[0][:2000]"
   ]
  },
  {
   "cell_type": "code",
   "execution_count": 126,
   "metadata": {},
   "outputs": [
    {
     "name": "stdout",
     "output_type": "stream",
     "text": [
      "using saved vectors\n"
     ]
    }
   ],
   "source": [
    "vectorizer = TfidfVectorizer(stop_words='english', ngram_range=(1,3)) #ideally\n",
    "if 'sentence_vectors_ngram3.npy' in os.listdir('ckpt/'):\n",
    "    print('using saved vectors')\n",
    "    sentence_vectors =  np.load('ckpt/sentence_vectors_ngram3.npy').item(0)\n",
    "#sentence_vectors1 = vectorizer.fit_transform(_sentences)"
   ]
  },
  {
   "cell_type": "code",
   "execution_count": 27,
   "metadata": {
    "scrolled": true
   },
   "outputs": [],
   "source": [
    "#arr_sentence_vectors = np.load('ckpt/sentence_vectors_ngram3.npy')\n",
    "#sentence_vectors = arr_sentence_vectors.item(0)"
   ]
  },
  {
   "cell_type": "code",
   "execution_count": 127,
   "metadata": {},
   "outputs": [
    {
     "data": {
      "text/plain": [
       "(8989, 14699076)"
      ]
     },
     "execution_count": 127,
     "metadata": {},
     "output_type": "execute_result"
    }
   ],
   "source": [
    "sentence_vectors.shape"
   ]
  },
  {
   "cell_type": "markdown",
   "metadata": {},
   "source": [
    "(1,3):(8989, 14699076)\\n\n",
    "(1,2):(8989, 5245532)"
   ]
  },
  {
   "cell_type": "markdown",
   "metadata": {},
   "source": [
    "* Use [TruncatedSVD](http://scikit-learn.org/stable/modules/generated/sklearn.decomposition.TruncatedSVD.html) to reduce dimensionality. ( in Scikit like [PCA](https://en.wikipedia.org/wiki/Principal_component_analysis), but here the values are not centered with the mean and SVD is more efficient as it operates directly on vals) \n",
    "* Currently Naive approach. Ideally check variance to guage.\n",
    "* Memory Limitations"
   ]
  },
  {
   "cell_type": "code",
   "execution_count": 30,
   "metadata": {},
   "outputs": [],
   "source": [
    "svd = TruncatedSVD(100) #Memory probs\n",
    "sentence_vectors = svd.fit_transform(sentence_vectors)"
   ]
  },
  {
   "cell_type": "code",
   "execution_count": 31,
   "metadata": {},
   "outputs": [
    {
     "name": "stdout",
     "output_type": "stream",
     "text": [
      "(8989, 100)\n"
     ]
    }
   ],
   "source": [
    "print(sentence_vectors.shape)"
   ]
  },
  {
   "cell_type": "code",
   "execution_count": 32,
   "metadata": {},
   "outputs": [],
   "source": [
    "import os\n",
    "if 'ckpt' not in os.listdir():\n",
    "    os.mkdir('ckpt')\n",
    "np.save(\"ckpt/sentence_vectors_ngram2_100.npy\", sentence_vectors)"
   ]
  },
  {
   "cell_type": "code",
   "execution_count": 33,
   "metadata": {},
   "outputs": [
    {
     "name": "stderr",
     "output_type": "stream",
     "text": [
      "Using TensorFlow backend.\n"
     ]
    }
   ],
   "source": [
    "from keras.models import Sequential\n",
    "from keras.layers import Dense\n",
    "from keras.layers import Dropout\n",
    "from keras.wrappers.scikit_learn import KerasClassifier\n",
    "from keras.utils import np_utils\n",
    "from keras import regularizers\n",
    "import pickle"
   ]
  },
  {
   "cell_type": "code",
   "execution_count": 98,
   "metadata": {},
   "outputs": [],
   "source": [
    "def fully_connected_model():\n",
    "    model = Sequential()\n",
    "    model.add(Dense(128, input_shape=(100,), kernel_initializer='he_normal', activation='relu',))\n",
    "    model.add(Dropout(0.6))\n",
    "    model.add(Dense(128, kernel_initializer='he_normal', activation='relu'))\n",
    "    model.add(Dropout(0.6))\n",
    "    model.add(Dense(64, kernel_initializer='he_normal', activation='relu'))\n",
    "    model.add(Dropout(0.7))\n",
    "    model.add(Dense(64, kernel_initializer='he_normal', activation='relu'))\n",
    "    model.add(Dropout(0.7))\n",
    "    model.add(Dense(9, init='normal', activation='softmax'))\n",
    "    model.compile(loss='categorical_crossentropy', optimizer='adam', metrics=['accuracy'])\n",
    "    return model"
   ]
  },
  {
   "cell_type": "code",
   "execution_count": 35,
   "metadata": {},
   "outputs": [],
   "source": [
    "from keras.utils import np_utils\n",
    "from sklearn.preprocessing import LabelEncoder"
   ]
  },
  {
   "cell_type": "code",
   "execution_count": 36,
   "metadata": {},
   "outputs": [
    {
     "name": "stdout",
     "output_type": "stream",
     "text": [
      "[1 2 3 4 5 6 7 8 9]\n"
     ]
    },
    {
     "data": {
      "text/plain": [
       "array([0, 1, 2, 3, 4, 5, 6, 7, 8])"
      ]
     },
     "execution_count": 36,
     "metadata": {},
     "output_type": "execute_result"
    }
   ],
   "source": [
    "encoder = LabelEncoder()\n",
    "encoder.fit(train_y) \n",
    "print(encoder.classes_) # Comes up with classes 1-9\n",
    "\n",
    "encoded_y = encoder.transform(train_y) # Transforms training labels to 0-8\n",
    "np.unique(encoded_y)"
   ]
  },
  {
   "cell_type": "code",
   "execution_count": 37,
   "metadata": {},
   "outputs": [
    {
     "data": {
      "text/plain": [
       "(3321, 9)"
      ]
     },
     "execution_count": 37,
     "metadata": {},
     "output_type": "execute_result"
    }
   ],
   "source": [
    "onehot_y = np_utils.to_categorical(encoded_y)\n",
    "onehot_y.shape"
   ]
  },
  {
   "cell_type": "code",
   "execution_count": 38,
   "metadata": {},
   "outputs": [
    {
     "name": "stdout",
     "output_type": "stream",
     "text": [
      "(3321, 100)\n"
     ]
    }
   ],
   "source": [
    "train_sentence_vectors = sentence_vectors[0:len(train_x)]\n",
    "print(train_sentence_vectors.shape)"
   ]
  },
  {
   "cell_type": "code",
   "execution_count": 66,
   "metadata": {},
   "outputs": [],
   "source": [
    "num_epochs = 15"
   ]
  },
  {
   "cell_type": "code",
   "execution_count": 99,
   "metadata": {},
   "outputs": [],
   "source": [
    "estimator = KerasClassifier(build_fn=fully_connected_model, epochs=num_epochs, batch_size=16)"
   ]
  },
  {
   "cell_type": "code",
   "execution_count": 41,
   "metadata": {},
   "outputs": [],
   "source": [
    "#latest_model_filename = 'estimator_%d.sav' % num_epochs\n",
    "#estimator = pickle.load(open(latest_model_filename, 'rb'))"
   ]
  },
  {
   "cell_type": "code",
   "execution_count": 102,
   "metadata": {},
   "outputs": [
    {
     "name": "stderr",
     "output_type": "stream",
     "text": [
      "/home/xipher/.ml/lib/python3.5/site-packages/ipykernel_launcher.py:11: UserWarning: Update your `Dense` call to the Keras 2 API: `Dense(9, activation=\"softmax\", kernel_initializer=\"normal\")`\n",
      "  # This is added back by InteractiveShellApp.init_path()\n"
     ]
    },
    {
     "name": "stdout",
     "output_type": "stream",
     "text": [
      "Train on 2988 samples, validate on 333 samples\n",
      "Epoch 1/15\n",
      "2988/2988 [==============================] - 0s - loss: 1.9997 - acc: 0.2222 - val_loss: 1.8161 - val_acc: 0.4595\n",
      "Epoch 2/15\n",
      "2988/2988 [==============================] - 0s - loss: 1.8923 - acc: 0.2477 - val_loss: 1.7822 - val_acc: 0.4595\n",
      "Epoch 3/15\n",
      "2988/2988 [==============================] - 0s - loss: 1.8494 - acc: 0.2580 - val_loss: 1.7501 - val_acc: 0.4444\n",
      "Epoch 4/15\n",
      "2988/2988 [==============================] - 0s - loss: 1.8141 - acc: 0.2875 - val_loss: 1.6655 - val_acc: 0.4444\n",
      "Epoch 5/15\n",
      "2988/2988 [==============================] - 0s - loss: 1.7584 - acc: 0.3096 - val_loss: 1.6201 - val_acc: 0.4414\n",
      "Epoch 6/15\n",
      "2988/2988 [==============================] - 0s - loss: 1.6477 - acc: 0.3795 - val_loss: 1.5501 - val_acc: 0.4595\n",
      "Epoch 7/15\n",
      "2988/2988 [==============================] - 0s - loss: 1.5969 - acc: 0.4127 - val_loss: 1.5023 - val_acc: 0.4535\n",
      "Epoch 8/15\n",
      "2988/2988 [==============================] - 0s - loss: 1.5141 - acc: 0.4367 - val_loss: 1.5090 - val_acc: 0.4324\n",
      "Epoch 9/15\n",
      "2988/2988 [==============================] - 0s - loss: 1.5175 - acc: 0.4434 - val_loss: 1.5345 - val_acc: 0.4024\n",
      "Epoch 10/15\n",
      "2988/2988 [==============================] - 0s - loss: 1.4650 - acc: 0.4491 - val_loss: 1.5086 - val_acc: 0.4384\n",
      "Epoch 11/15\n",
      "2988/2988 [==============================] - 0s - loss: 1.4607 - acc: 0.4521 - val_loss: 1.4705 - val_acc: 0.4625\n",
      "Epoch 12/15\n",
      "2988/2988 [==============================] - 0s - loss: 1.4490 - acc: 0.4726 - val_loss: 1.4735 - val_acc: 0.4354\n",
      "Epoch 13/15\n",
      "2988/2988 [==============================] - 0s - loss: 1.4124 - acc: 0.4645 - val_loss: 1.5254 - val_acc: 0.4414\n",
      "Epoch 14/15\n",
      "2988/2988 [==============================] - 0s - loss: 1.4019 - acc: 0.4813 - val_loss: 1.5582 - val_acc: 0.4444\n",
      "Epoch 15/15\n",
      "2988/2988 [==============================] - 0s - loss: 1.4101 - acc: 0.4642 - val_loss: 1.5462 - val_acc: 0.4444\n"
     ]
    }
   ],
   "source": [
    "history = estimator.fit(train_sentence_vectors, onehot_y, validation_split=0.1)"
   ]
  },
  {
   "cell_type": "code",
   "execution_count": 104,
   "metadata": {
    "scrolled": false
   },
   "outputs": [
    {
     "name": "stdout",
     "output_type": "stream",
     "text": [
      "dict_keys(['loss', 'acc', 'val_acc', 'val_loss'])\n"
     ]
    },
    {
     "data": {
      "image/png": "[encoded data removed]",
      "text/plain": [
       "<matplotlib.figure.Figure at 0x7f9f10569978>"
      ]
     },
     "metadata": {},
     "output_type": "display_data"
    },
    {
     "data": {
      "image/png": "[encoded data removed]",
      "text/plain": [
       "<matplotlib.figure.Figure at 0x7f9f10577048>"
      ]
     },
     "metadata": {},
     "output_type": "display_data"
    }
   ],
   "source": [
    "print(history.history.keys())\n",
    "#  \"Accuracy\"\n",
    "plt.plot(history.history['acc'])\n",
    "plt.plot(history.history['val_acc'])\n",
    "plt.title('model accuracy')\n",
    "plt.ylabel('accuracy')\n",
    "plt.xlabel('epoch')\n",
    "plt.legend(['train', 'validation'], loc='upper left')\n",
    "plt.show()\n",
    "# \"Loss\"\n",
    "plt.plot(history.history['loss'])\n",
    "plt.plot(history.history['val_loss'])\n",
    "plt.title('model loss')\n",
    "plt.ylabel('loss')\n",
    "plt.xlabel('epoch')\n",
    "plt.legend(['train', 'validation'], loc='upper left')\n",
    "plt.show()"
   ]
  },
  {
   "cell_type": "markdown",
   "metadata": {},
   "source": [
    "insights:\n",
    "* the initial loss seems okay for -log(1/9)\n",
    "* more hyperparameter tuning required\n",
    "Key Problem is the imbalance in the set. The accuracy plot confirms this.\n",
    "Simply put, Hard cases to learn, easy cases to predict."
   ]
  },
  {
   "cell_type": "markdown",
   "metadata": {},
   "source": [
    "TODO:\n",
    "* Try some sort of Oversampling for minority classes"
   ]
  },
  {
   "cell_type": "code",
   "execution_count": 106,
   "metadata": {},
   "outputs": [],
   "source": [
    "x = sentence_vectors.tolist"
   ]
  },
  {
   "cell_type": "code",
   "execution_count": 110,
   "metadata": {},
   "outputs": [],
   "source": [
    "df_all['vecs']=list(sentence_vectors)"
   ]
  },
  {
   "cell_type": "code",
   "execution_count": 119,
   "metadata": {
    "scrolled": true
   },
   "outputs": [
    {
     "data": {
      "text/plain": [
       "0    [0.097663607387, -0.0259929845902, -0.00845325...\n",
       "1    [0.176551141344, -0.0584905997037, -0.02040621...\n",
       "2    [0.176551141344, -0.0584905997037, -0.02040621...\n",
       "3    [0.155561588959, -0.0393181773901, -0.01467649...\n",
       "4    [0.171830278738, -0.0230200448917, 0.005264781...\n",
       "Name: vecs, dtype: object"
      ]
     },
     "execution_count": 119,
     "metadata": {},
     "output_type": "execute_result"
    }
   ],
   "source": [
    "df_all['vecs'].head(5) #8989*100"
   ]
  }
 ],
 "metadata": {
  "kernelspec": {
   "display_name": "Python 3",
   "language": "python",
   "name": "python3"
  },
  "language_info": {
   "codemirror_mode": {
    "name": "ipython",
    "version": 3
   },
   "file_extension": ".py",
   "mimetype": "text/x-python",
   "name": "python",
   "nbconvert_exporter": "python",
   "pygments_lexer": "ipython3",
   "version": "3.5.2"
  }
 },
 "nbformat": 4,
 "nbformat_minor": 2
}
