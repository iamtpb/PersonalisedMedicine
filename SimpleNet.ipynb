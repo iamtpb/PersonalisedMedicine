{
 "cells": [
  {
   "cell_type": "code",
   "execution_count": 2,
   "metadata": {},
   "outputs": [],
   "source": [
    "import numpy as np\n",
    "import pandas as pd\n",
    "import matplotlib.pyplot as plt\n",
    "from sklearn.feature_extraction.text import TfidfVectorizer\n",
    "from sklearn.decomposition import TruncatedSVD\n",
    "\n",
    "%matplotlib inline"
   ]
  },
  {
   "cell_type": "code",
   "execution_count": 3,
   "metadata": {},
   "outputs": [],
   "source": [
    "train_variants = pd.read_csv(\"data/training_variants\")\n",
    "test_variants = pd.read_csv(\"data/test_variants\")\n",
    "\n",
    "train_text = pd.read_csv(\"data/training_text\", sep=\"\\|\\|\", engine='python', header=None, skiprows=1,names=[\"ID\",\"Text\"])\n",
    "test_text = pd.read_csv(\"data/test_text\", sep=\"\\|\\|\", engine='python', header=None, skiprows=1,names=[\"ID\",\"Text\"])"
   ]
  },
  {
   "cell_type": "code",
   "execution_count": 4,
   "metadata": {},
   "outputs": [],
   "source": [
    "train = pd.merge(train_variants, train_text, how='left', on='ID')\n",
    "train_y = train['Class'].values # Extract label as the expected output\n",
    "train_x = train.drop('Class', axis=1) # Remove labels from the input"
   ]
  },
  {
   "cell_type": "code",
   "execution_count": 5,
   "metadata": {},
   "outputs": [],
   "source": [
    "test_x = pd.merge(test_variants, test_text, how='left', on='ID')"
   ]
  },
  {
   "cell_type": "code",
   "execution_count": 6,
   "metadata": {},
   "outputs": [
    {
     "name": "stdout",
     "output_type": "stream",
     "text": [
      "Train variants\t (3321, 4)\n",
      "Test variants\t (5668, 3)\n",
      "Train text\t (3321, 2)\n",
      "Test text\t (5668, 2)\n"
     ]
    }
   ],
   "source": [
    "print(\"Train variants\\t\",train_variants.shape)\n",
    "print(\"Test variants\\t\",test_variants.shape)\n",
    "print(\"Train text\\t\", train_text.shape)\n",
    "print(\"Test text\\t\", test_text.shape)"
   ]
  },
  {
   "cell_type": "markdown",
   "metadata": {},
   "source": [
    "### Concat for entire corpus"
   ]
  },
  {
   "cell_type": "code",
   "execution_count": 7,
   "metadata": {},
   "outputs": [
    {
     "data": {
      "text/html": [
       "<div>\n",
       "<style>\n",
       "    .dataframe thead tr:only-child th {\n",
       "        text-align: right;\n",
       "    }\n",
       "\n",
       "    .dataframe thead th {\n",
       "        text-align: left;\n",
       "    }\n",
       "\n",
       "    .dataframe tbody tr th {\n",
       "        vertical-align: top;\n",
       "    }\n",
       "</style>\n",
       "<table border=\"1\" class=\"dataframe\">\n",
       "  <thead>\n",
       "    <tr style=\"text-align: right;\">\n",
       "      <th></th>\n",
       "      <th>ID</th>\n",
       "      <th>Gene</th>\n",
       "      <th>Variation</th>\n",
       "      <th>Text</th>\n",
       "    </tr>\n",
       "  </thead>\n",
       "  <tbody>\n",
       "    <tr>\n",
       "      <th>0</th>\n",
       "      <td>0</td>\n",
       "      <td>FAM58A</td>\n",
       "      <td>Truncating Mutations</td>\n",
       "      <td>Cyclin-dependent kinases (CDKs) regulate a var...</td>\n",
       "    </tr>\n",
       "    <tr>\n",
       "      <th>1</th>\n",
       "      <td>1</td>\n",
       "      <td>CBL</td>\n",
       "      <td>W802*</td>\n",
       "      <td>Abstract Background  Non-small cell lung canc...</td>\n",
       "    </tr>\n",
       "    <tr>\n",
       "      <th>2</th>\n",
       "      <td>2</td>\n",
       "      <td>CBL</td>\n",
       "      <td>Q249E</td>\n",
       "      <td>Abstract Background  Non-small cell lung canc...</td>\n",
       "    </tr>\n",
       "    <tr>\n",
       "      <th>3</th>\n",
       "      <td>3</td>\n",
       "      <td>CBL</td>\n",
       "      <td>N454D</td>\n",
       "      <td>Recent evidence has demonstrated that acquired...</td>\n",
       "    </tr>\n",
       "    <tr>\n",
       "      <th>4</th>\n",
       "      <td>4</td>\n",
       "      <td>CBL</td>\n",
       "      <td>L399V</td>\n",
       "      <td>Oncogenic mutations in the monomeric Casitas B...</td>\n",
       "    </tr>\n",
       "  </tbody>\n",
       "</table>\n",
       "</div>"
      ],
      "text/plain": [
       "  ID    Gene             Variation  \\\n",
       "0  0  FAM58A  Truncating Mutations   \n",
       "1  1     CBL                 W802*   \n",
       "2  2     CBL                 Q249E   \n",
       "3  3     CBL                 N454D   \n",
       "4  4     CBL                 L399V   \n",
       "\n",
       "                                                Text  \n",
       "0  Cyclin-dependent kinases (CDKs) regulate a var...  \n",
       "1   Abstract Background  Non-small cell lung canc...  \n",
       "2   Abstract Background  Non-small cell lung canc...  \n",
       "3  Recent evidence has demonstrated that acquired...  \n",
       "4  Oncogenic mutations in the monomeric Casitas B...  "
      ]
     },
     "execution_count": 7,
     "metadata": {},
     "output_type": "execute_result"
    }
   ],
   "source": [
    "df_all = np.concatenate((train_x, test_x), axis=0)\n",
    "df_all = pd.DataFrame(df_all) # DataFrame docs: https://pandas.pydata.org/pandas-docs/stable/api.html#dataframe\n",
    "df_all.columns = [\"ID\", \"Gene\", \"Variation\", \"Text\"]\n",
    "df_all.head()"
   ]
  },
  {
   "cell_type": "markdown",
   "metadata": {},
   "source": [
    "Using [TF IDF](http://scikit-larn.org/stable/modules/generated/sklearn.feature_extraction.text.TfidfVectorizer.html) for vects"
   ]
  },
  {
   "cell_type": "code",
   "execution_count": 8,
   "metadata": {
    "scrolled": false
   },
   "outputs": [
    {
     "name": "stdout",
     "output_type": "stream",
     "text": [
      "(8989,)\n"
     ]
    },
    {
     "data": {
      "text/plain": [
       "'Cyclin-dependent kinases (CDKs) regulate a variety of fundamental cellular processes. CDK10 stands out as one of the last orphan CDKs for which no activating cyclin has been identified and no kinase activity revealed. Previous work has shown that CDK10 silencing increases ETS2 (v-ets erythroblastosis virus E26 oncogene homolog 2)-driven activation of the MAPK pathway, which confers tamoxifen resistance to breast cancer cells. The precise mechanisms by which CDK10 modulates ETS2 activity, and more generally the functions of CDK10, remain elusive. Here we demonstrate that CDK10 is a cyclin-dependent kinase by identifying cyclin M as an activating cyclin. Cyclin M, an orphan cyclin, is the product of FAM58A, whose mutations cause STAR syndrome, a human developmental anomaly whose features include toe syndactyly, telecanthus, and anogenital and renal malformations. We show that STAR syndrome-associated cyclin M mutants are unable to interact with CDK10. Cyclin M silencing phenocopies CDK10 silencing in increasing c-Raf and in conferring tamoxifen resistance to breast cancer cells. CDK10/cyclin M phosphorylates ETS2 in vitro, and in cells it positively controls ETS2 degradation by the proteasome. ETS2 protein levels are increased in cells derived from a STAR patient, and this increase is attributable to decreased cyclin M levels. Altogether, our results reveal an additional regulatory mechanism for ETS2, which plays key roles in cancer and development. They also shed light on the molecular mechanisms underlying STAR syndrome.Cyclin-dependent kinases (CDKs) play a pivotal role in the control of a number of fundamental cellular processes (1). The human genome contains 21 genes encoding proteins that can be considered as members of the CDK family owing to their sequence similarity with bona fide CDKs, those known to be activated by cyclins (2). Although discovered almost 20 y ago (3, 4), CDK10 remains one of the two CDKs without an identified cyclin partner. This knowledge '"
      ]
     },
     "execution_count": 8,
     "metadata": {},
     "output_type": "execute_result"
    }
   ],
   "source": [
    "_sentences = df_all[\"Text\"]\n",
    "print(_sentences.shape)\n",
    "_sentences[0][:2000]"
   ]
  },
  {
   "cell_type": "code",
   "execution_count": 9,
   "metadata": {},
   "outputs": [],
   "source": [
    "import os\n",
    "vectorizer = TfidfVectorizer(stop_words='english') #ideally\n",
    "if 'sentence_vectors_ngram3.npy' in os.listdir('ckpt/'):\n",
    "    print('using saved vectors')\n",
    "    sentence_vectors =  np.load('ckpt/sentence_vectors_ngram3.npy').item(0)\n",
    "else:\n",
    "    sentence_vectors = vectorizer.fit_transform(_sentences)"
   ]
  },
  {
   "cell_type": "code",
   "execution_count": 10,
   "metadata": {
    "scrolled": true
   },
   "outputs": [],
   "source": [
    "#arr_sentence_vectors = np.load('ckpt/sentence_vectors_ngram3.npy')\n",
    "#sentence_vectors = arr_sentence_vectors.item(0)"
   ]
  },
  {
   "cell_type": "code",
   "execution_count": 11,
   "metadata": {},
   "outputs": [
    {
     "data": {
      "text/plain": [
       "(8989, 169129)"
      ]
     },
     "execution_count": 11,
     "metadata": {},
     "output_type": "execute_result"
    }
   ],
   "source": [
    "sentence_vectors.shape"
   ]
  },
  {
   "cell_type": "markdown",
   "metadata": {},
   "source": [
    "ngram : shape  \n",
    "(1,3) : (8989, 14699076)  \n",
    "(1,2) :(8989, 5245532)"
   ]
  },
  {
   "cell_type": "markdown",
   "metadata": {},
   "source": [
    "* Use [TruncatedSVD](http://scikit-learn.org/stable/modules/generated/sklearn.decomposition.TruncatedSVD.html) to reduce dimensionality. ( in Scikit like [PCA](https://en.wikipedia.org/wiki/Principal_component_analysis), but here the values are not centered with the mean and SVD is more efficient as it operates directly on vals) \n",
    "* Currently Naive approach. Ideally check variance to guage.\n",
    "* Memory Limitations"
   ]
  },
  {
   "cell_type": "code",
   "execution_count": 12,
   "metadata": {},
   "outputs": [],
   "source": [
    "svd = TruncatedSVD(100) #Memory probs\n",
    "sentence_vectors = svd.fit_transform(sentence_vectors)"
   ]
  },
  {
   "cell_type": "code",
   "execution_count": 13,
   "metadata": {},
   "outputs": [
    {
     "name": "stdout",
     "output_type": "stream",
     "text": [
      "(8989, 100)\n"
     ]
    }
   ],
   "source": [
    "print(sentence_vectors.shape)"
   ]
  },
  {
   "cell_type": "code",
   "execution_count": 14,
   "metadata": {},
   "outputs": [],
   "source": [
    "import os\n",
    "if 'ckpt' not in os.listdir():\n",
    "    os.mkdir('ckpt')\n",
    "np.save(\"ckpt/sentence_vectors_ngram2_100.npy\", sentence_vectors)"
   ]
  },
  {
   "cell_type": "code",
   "execution_count": 15,
   "metadata": {},
   "outputs": [
    {
     "name": "stderr",
     "output_type": "stream",
     "text": [
      "Using TensorFlow backend.\n"
     ]
    }
   ],
   "source": [
    "from keras.models import Sequential\n",
    "from keras.layers import Dense\n",
    "from keras.layers import Dropout\n",
    "from keras.wrappers.scikit_learn import KerasClassifier\n",
    "from keras.utils import np_utils\n",
    "from keras import regularizers\n",
    "from keras.utils import np_utils\n",
    "from sklearn.preprocessing import LabelEncoder\n",
    "import pickle"
   ]
  },
  {
   "cell_type": "code",
   "execution_count": 16,
   "metadata": {},
   "outputs": [],
   "source": [
    "def fully_connected_model():\n",
    "    model = Sequential()\n",
    "    model.add(Dense(128, input_shape=(100,), kernel_initializer='he_normal', activation='relu',))\n",
    "    model.add(Dropout(0.6))\n",
    "    model.add(Dense(128, kernel_initializer='he_normal', activation='relu'))\n",
    "    model.add(Dropout(0.6))\n",
    "    model.add(Dense(64, kernel_initializer='he_normal', activation='relu'))\n",
    "    model.add(Dropout(0.7))\n",
    "    model.add(Dense(64, kernel_initializer='he_normal', activation='relu'))\n",
    "    model.add(Dropout(0.7))\n",
    "    model.add(Dense(9, kernel_initializer='normal', activation='softmax'))\n",
    "    model.compile(loss='categorical_crossentropy', optimizer='adam', metrics=['accuracy'])\n",
    "    return model"
   ]
  },
  {
   "cell_type": "code",
   "execution_count": 18,
   "metadata": {},
   "outputs": [
    {
     "name": "stdout",
     "output_type": "stream",
     "text": [
      "[1 2 3 4 5 6 7 8 9]\n"
     ]
    },
    {
     "data": {
      "text/plain": [
       "array([0, 1, 2, 3, 4, 5, 6, 7, 8])"
      ]
     },
     "execution_count": 18,
     "metadata": {},
     "output_type": "execute_result"
    }
   ],
   "source": [
    "encoder = LabelEncoder()\n",
    "encoder.fit(train_y) \n",
    "print(encoder.classes_) # Comes up with classes 1-9\n",
    "\n",
    "encoded_y = encoder.transform(train_y) # Transforms training labels to 0-8\n",
    "np.unique(encoded_y)"
   ]
  },
  {
   "cell_type": "code",
   "execution_count": 19,
   "metadata": {},
   "outputs": [
    {
     "data": {
      "text/plain": [
       "(3321, 9)"
      ]
     },
     "execution_count": 19,
     "metadata": {},
     "output_type": "execute_result"
    }
   ],
   "source": [
    "onehot_y = np_utils.to_categorical(encoded_y)\n",
    "onehot_y.shape"
   ]
  },
  {
   "cell_type": "code",
   "execution_count": 20,
   "metadata": {},
   "outputs": [
    {
     "name": "stdout",
     "output_type": "stream",
     "text": [
      "(3321, 100)\n"
     ]
    }
   ],
   "source": [
    "train_sentence_vectors = sentence_vectors[0:len(train_x)]\n",
    "print(train_sentence_vectors.shape)"
   ]
  },
  {
   "cell_type": "code",
   "execution_count": 21,
   "metadata": {},
   "outputs": [],
   "source": [
    "num_epochs = 15"
   ]
  },
  {
   "cell_type": "code",
   "execution_count": 22,
   "metadata": {},
   "outputs": [],
   "source": [
    "estimator = KerasClassifier(build_fn=fully_connected_model, epochs=num_epochs, batch_size=16)"
   ]
  },
  {
   "cell_type": "code",
   "execution_count": 24,
   "metadata": {},
   "outputs": [
    {
     "name": "stdout",
     "output_type": "stream",
     "text": [
      "Train on 2988 samples, validate on 333 samples\n",
      "Epoch 1/15\n",
      "2988/2988 [==============================] - 1s - loss: 1.9996 - acc: 0.2262 - val_loss: 1.8210 - val_acc: 0.4595\n",
      "Epoch 2/15\n",
      "2988/2988 [==============================] - 0s - loss: 1.8806 - acc: 0.2450 - val_loss: 1.7781 - val_acc: 0.4595\n",
      "Epoch 3/15\n",
      "2988/2988 [==============================] - 0s - loss: 1.8498 - acc: 0.2587 - val_loss: 1.7382 - val_acc: 0.4595\n",
      "Epoch 4/15\n",
      "2988/2988 [==============================] - 0s - loss: 1.8194 - acc: 0.2657 - val_loss: 1.7506 - val_acc: 0.4625\n",
      "Epoch 5/15\n",
      "2988/2988 [==============================] - 0s - loss: 1.7829 - acc: 0.2969 - val_loss: 1.7268 - val_acc: 0.4384\n",
      "Epoch 6/15\n",
      "2988/2988 [==============================] - 0s - loss: 1.7138 - acc: 0.3303 - val_loss: 1.6181 - val_acc: 0.3904\n",
      "Epoch 7/15\n",
      "2988/2988 [==============================] - 0s - loss: 1.6354 - acc: 0.3932 - val_loss: 1.5171 - val_acc: 0.4474\n",
      "Epoch 8/15\n",
      "2988/2988 [==============================] - 0s - loss: 1.5737 - acc: 0.4183 - val_loss: 1.4293 - val_acc: 0.4685\n",
      "Epoch 9/15\n",
      "2988/2988 [==============================] - 0s - loss: 1.5161 - acc: 0.4438 - val_loss: 1.4796 - val_acc: 0.4565\n",
      "Epoch 10/15\n",
      "2988/2988 [==============================] - 0s - loss: 1.5153 - acc: 0.4421 - val_loss: 1.4299 - val_acc: 0.4685\n",
      "Epoch 11/15\n",
      "2988/2988 [==============================] - 0s - loss: 1.4931 - acc: 0.4528 - val_loss: 1.4426 - val_acc: 0.4655\n",
      "Epoch 12/15\n",
      "2988/2988 [==============================] - 0s - loss: 1.4435 - acc: 0.4705 - val_loss: 1.4304 - val_acc: 0.4775\n",
      "Epoch 13/15\n",
      "2988/2988 [==============================] - 0s - loss: 1.4515 - acc: 0.4709 - val_loss: 1.4347 - val_acc: 0.4685\n",
      "Epoch 14/15\n",
      "2988/2988 [==============================] - 0s - loss: 1.4418 - acc: 0.4843 - val_loss: 1.4314 - val_acc: 0.4715\n",
      "Epoch 15/15\n",
      "2988/2988 [==============================] - 0s - loss: 1.4297 - acc: 0.4956 - val_loss: 1.4418 - val_acc: 0.46250\n"
     ]
    }
   ],
   "source": [
    "history = estimator.fit(train_sentence_vectors, onehot_y, validation_split=0.1)"
   ]
  },
  {
   "cell_type": "code",
   "execution_count": 25,
   "metadata": {
    "scrolled": false
   },
   "outputs": [
    {
     "name": "stdout",
     "output_type": "stream",
     "text": [
      "dict_keys(['val_acc', 'val_loss', 'acc', 'loss'])\n"
     ]
    },
    {
     "data": {
      "image/png": "[encoded data removed]",
      "text/plain": [
       "<matplotlib.figure.Figure at 0x7fe21a5e42e8>"
      ]
     },
     "metadata": {},
     "output_type": "display_data"
    },
    {
     "data": {
      "image/png": "[encoded data removed]",
      "text/plain": [
       "<matplotlib.figure.Figure at 0x7fe21458a0b8>"
      ]
     },
     "metadata": {},
     "output_type": "display_data"
    }
   ],
   "source": [
    "print(history.history.keys())\n",
    "#  \"Accuracy\"\n",
    "plt.plot(history.history['acc'])\n",
    "plt.plot(history.history['val_acc'])\n",
    "plt.title('model accuracy')\n",
    "plt.ylabel('accuracy')\n",
    "plt.xlabel('epoch')\n",
    "plt.legend(['train', 'validation'], loc='upper left')\n",
    "plt.show()\n",
    "# \"Loss\"\n",
    "plt.plot(history.history['loss'])\n",
    "plt.plot(history.history['val_loss'])\n",
    "plt.title('model loss')\n",
    "plt.ylabel('loss')\n",
    "plt.xlabel('epoch')\n",
    "plt.legend(['train', 'validation'], loc='upper left')\n",
    "plt.show()"
   ]
  },
  {
   "cell_type": "markdown",
   "metadata": {},
   "source": [
    "insights:\n",
    "* the initial loss seems okay for -log(1/9).\n",
    "* reveals issues without need for more epochs.\n",
    "Key Problem is the imbalance in the set. The accuracy plot confirms this.\n",
    "Simply put, Hard cases to learn, easy cases to predict."
   ]
  },
  {
   "cell_type": "markdown",
   "metadata": {},
   "source": [
    "TODO:\n",
    "* Try some sort of Oversampling for minority classes"
   ]
  },
  {
   "cell_type": "code",
   "execution_count": 46,
   "metadata": {},
   "outputs": [],
   "source": [
    "x = sentence_vectors.tolist"
   ]
  },
  {
   "cell_type": "code",
   "execution_count": 27,
   "metadata": {},
   "outputs": [],
   "source": [
    "df_all['vecs']=list(sentence_vectors)"
   ]
  },
  {
   "cell_type": "code",
   "execution_count": 37,
   "metadata": {
    "scrolled": false
   },
   "outputs": [
    {
     "data": {
      "text/plain": [
       "(100,)"
      ]
     },
     "execution_count": 37,
     "metadata": {},
     "output_type": "execute_result"
    }
   ],
   "source": [
    "df_all['vecs'][0].shape #8989*100"
   ]
  },
  {
   "cell_type": "code",
   "execution_count": 29,
   "metadata": {},
   "outputs": [
    {
     "data": {
      "text/plain": [
       "(8989, 5)"
      ]
     },
     "execution_count": 29,
     "metadata": {},
     "output_type": "execute_result"
    }
   ],
   "source": [
    "df_all.shape"
   ]
  },
  {
   "cell_type": "code",
   "execution_count": 44,
   "metadata": {},
   "outputs": [],
   "source": [
    "y = train_variants['Class'].values"
   ]
  },
  {
   "cell_type": "code",
   "execution_count": 38,
   "metadata": {},
   "outputs": [],
   "source": [
    "from imblearn.over_sampling import SMOTE\n",
    "\n",
    "sm = SMOTE(kind='svm')"
   ]
  },
  {
   "cell_type": "code",
   "execution_count": 48,
   "metadata": {},
   "outputs": [],
   "source": [
    "X_res, y_res = sm.fit_sample(sentence_vectors[:3321], y)"
   ]
  },
  {
   "cell_type": "code",
   "execution_count": 50,
   "metadata": {},
   "outputs": [],
   "source": [
    "dfcl = pd.DataFrame({'y':y_res})"
   ]
  },
  {
   "cell_type": "code",
   "execution_count": 53,
   "metadata": {},
   "outputs": [
    {
     "data": {
      "text/plain": [
       "<matplotlib.axes._subplots.AxesSubplot at 0x7fe2014cc1d0>"
      ]
     },
     "execution_count": 53,
     "metadata": {},
     "output_type": "execute_result"
    },
    {
     "data": {
      "image/png": "[encoded data removed]",
      "text/plain": [
       "<matplotlib.figure.Figure at 0x7fe200d0e668>"
      ]
     },
     "metadata": {},
     "output_type": "display_data"
    }
   ],
   "source": [
    "dfcl.groupby('y')['y'].count().plot(kind='bar')"
   ]
  },
  {
   "cell_type": "markdown",
   "metadata": {},
   "source": [
    "TODO: \n",
    "* experiment with Parameters of SMOTE\n",
    "* experiment with differemt methods\n",
    "    * before SVD\n",
    "    * after SVD\n",
    "* check variance of this data"
   ]
  }
 ],
 "metadata": {
  "kernelspec": {
   "display_name": "Python 3",
   "language": "python",
   "name": "python3"
  },
  "language_info": {
   "codemirror_mode": {
    "name": "ipython",
    "version": 3
   },
   "file_extension": ".py",
   "mimetype": "text/x-python",
   "name": "python",
   "nbconvert_exporter": "python",
   "pygments_lexer": "ipython3",
   "version": "3.5.2"
  }
 },
 "nbformat": 4,
 "nbformat_minor": 2
}
