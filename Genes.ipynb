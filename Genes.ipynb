{
 "cells": [
  {
   "cell_type": "markdown",
   "metadata": {},
   "source": [
    "# Testing base results for Genes"
   ]
  },
  {
   "cell_type": "code",
   "execution_count": 3,
   "metadata": {},
   "outputs": [],
   "source": [
    "import pandas as pd \n",
    "import numpy as np\n",
    "import matplotlib.pyplot as plt\n",
    "from keras.preprocessing.text import Tokenizer\n",
    "from keras.preprocessing.sequence import pad_sequences\n",
    "from keras.models import Sequential\n",
    "from keras.layers import Dense, Embedding, LSTM, Flatten, Dropout\n",
    "from keras.utils.np_utils import to_categorical\n",
    "from keras.callbacks import ModelCheckpoint\n",
    "from keras.models import load_model\n",
    "from keras.optimizers import Adam\n",
    "import scikitplot.plotters as skplt\n",
    "from sklearn.metrics import log_loss, accuracy_score\n",
    "from sklearn.model_selection import train_test_split\n"
   ]
  },
  {
   "cell_type": "code",
   "execution_count": 4,
   "metadata": {},
   "outputs": [],
   "source": [
    "#Stage 2 data\n",
    "df_train = pd.read_pickle('df_train')\n",
    "df_test = pd.read_pickle('df_test')"
   ]
  },
  {
   "cell_type": "code",
   "execution_count": 31,
   "metadata": {
    "scrolled": false
   },
   "outputs": [
    {
     "data": {
      "text/plain": [
       "array(['FAM58A', 'CBL', 'SHOC2', 'TERT', 'DICER1', 'PTPRT', 'RHEB', 'SHQ1',\n",
       "       'CCND2', 'RAD50', 'CCND3', 'RIT1', 'CCNE1', 'RYBP', 'TGFBR1',\n",
       "       'TGFBR2', 'MSH6', 'KMT2D', 'LATS1', 'PBRM1', 'SF3B1', 'LATS2',\n",
       "       'EGFR', 'NKX2-1', 'EIF1AX', 'ARID2', 'BRD4', 'HIST1H1C', 'ERRFI1',\n",
       "       'CHEK2', 'PAK1', 'TMPRSS2', 'H3F3A', 'ELF3', 'ROS1', 'ASXL2',\n",
       "       'CDH1', 'EPCAM', 'EP300', 'EPAS1', 'TP53', 'TP53BP1', 'SMAD2',\n",
       "       'SMAD3', 'SMAD4', 'CDK4', 'AURKB', 'CDK6', 'FBXW7', 'CDK8',\n",
       "       'CDKN1A', 'CDKN1B', 'CDKN2A', 'CDKN2B', 'CDKN2C', 'ASXL1', 'ERBB2',\n",
       "       'ERBB3', 'ERBB4', 'ERCC2', 'BRIP1', 'ERCC3', 'ERCC4', 'ABL1',\n",
       "       'CEBPA', 'ERG', 'HLA-A', 'HLA-B', 'PDGFRA', 'PDGFRB', 'RBM10',\n",
       "       'KDM5C', 'ESR1', 'ETV1', 'ETV6', 'TSC1', 'IKZF1', 'TSC2', 'EWSR1',\n",
       "       'ACVR1', 'FOXA1', 'MDM2', 'ARID1A', 'EZH2', 'MDM4', 'KLF4', 'RXRA',\n",
       "       'MAP3K1', 'AXIN1', 'BAP1', 'MEN1', 'FANCA', 'FANCC', 'MET', 'U2AF1',\n",
       "       'KMT2C', 'FAT1', 'ARID1B', 'PIK3CA', 'PIK3CB', 'PIM1', 'PIK3CD',\n",
       "       'YAP1', 'PIK3R1', 'PIK3R2', 'ARID5B', 'HRAS', 'MLH1', 'FGF3',\n",
       "       'FGF4', 'KMT2A', 'AKT1', 'AKT2', 'FGFR1', 'FGFR3', 'SPOP', 'FGFR2',\n",
       "       'FGFR4', 'KDM6A', 'ALK', 'SDHB', 'RAD54L', 'SDHC', 'VEGFA', 'MPL',\n",
       "       'PMS1', 'CARM1', 'FOXO1', 'VHL', 'MAP2K4', 'RRAS2', 'FLT1', 'FLT3',\n",
       "       'PMS2', 'SRSF2', 'WHSC1', 'PPM1D', 'POLE', 'KNSTRN', 'PIK3R3',\n",
       "       'APC', 'RICTOR', 'MSH2', 'IDH1', 'IDH2', 'XPO1', 'XRCC2', 'CREBBP',\n",
       "       'AR', 'ARAF', 'RHOA', 'NCOR1', 'PPP2R1A', 'SETD2', 'IGF1R', 'PPP6C',\n",
       "       'CTCF', 'IKBKE', 'MTOR', 'TET1', 'SMARCA4', 'SMARCB1', 'FOXP1',\n",
       "       'SMO', 'CARD11', 'MEF2B', 'CTLA4', 'ATM', 'NUP93', 'MAPK1',\n",
       "       'CTNNB1', 'MAP2K1', 'MAP2K2', 'STAG2', 'IL7R', 'SOS1', 'MYC',\n",
       "       'MYCN', 'SOX9', 'TET2', 'MYD88', 'AGO2', 'KMT2B', 'ATR', 'ATRX',\n",
       "       'CDK12', 'AXL', 'MYOD1', 'B2M', 'SRC', 'GATA3', 'BARD1', 'CCND1',\n",
       "       'BCL2', 'KEAP1', 'PTCH1', 'PTEN', 'BCOR', 'RNF43', 'CIC', 'INPP4B',\n",
       "       'STAT3', 'WHSC1L1', 'PRDM1', 'JAK1', 'JAK2', 'AURKA', 'STK11',\n",
       "       'JUN', 'PTPN11', 'NF1', 'FOXL2', 'PTPRD', 'BRCA1', 'BRAF', 'BRCA2',\n",
       "       'NF2', 'PAX8', 'NFE2L2', 'GLI1', 'FUBP1', 'BTK', 'NFKBIA', 'GNA11',\n",
       "       'KDR', 'BCL10', 'GNAQ', 'GNAS', 'MGA', 'KIT', 'FGF19', 'MED12',\n",
       "       'NOTCH1', 'NOTCH2', 'RAC1', 'DNMT3A', 'DNMT3B', 'RAD21', 'RAD51C',\n",
       "       'RAD51B', 'RAD51D', 'KRAS', 'NPM1', 'RAF1', 'RAB35', 'HNF1A',\n",
       "       'AKT3', 'TCF3', 'TCF7L2', 'RARA', 'NRAS', 'RASA1', 'BCL2L11', 'RB1',\n",
       "       'KDM5A', 'NTRK1', 'NTRK2', 'NTRK3', 'DUSP4', 'DDR2', 'NSD1',\n",
       "       'CASP8', 'RET', 'RUNX1', 'DIS3', 'SPEN', 'SOX17', 'AXIN2', 'ERF'], dtype=object)"
      ]
     },
     "execution_count": 31,
     "metadata": {},
     "output_type": "execute_result"
    }
   ],
   "source": [
    "df_train.Gene.unique()"
   ]
  },
  {
   "cell_type": "code",
   "execution_count": 6,
   "metadata": {
    "scrolled": true
   },
   "outputs": [
    {
     "data": {
      "text/plain": [
       "269"
      ]
     },
     "execution_count": 6,
     "metadata": {},
     "output_type": "execute_result"
    }
   ],
   "source": [
    "len(df_train.Gene.unique())"
   ]
  },
  {
   "cell_type": "code",
   "execution_count": 7,
   "metadata": {},
   "outputs": [
    {
     "data": {
      "text/plain": [
       "array(['FAM58A', 'CBL', 'CBL', ..., 'MAP2K1', 'ATM', 'TP53'], dtype=object)"
      ]
     },
     "execution_count": 7,
     "metadata": {},
     "output_type": "execute_result"
    }
   ],
   "source": [
    "df_train['Gene'].values"
   ]
  },
  {
   "cell_type": "code",
   "execution_count": 8,
   "metadata": {},
   "outputs": [],
   "source": [
    "#tokenizer = Tokenizer(num_words=None,lower=True)\n",
    "tokenizer = Tokenizer(num_words=None,lower=True,char_level=True)\n",
    "\n",
    "tokenizer.fit_on_texts(df_train['Gene'].values)\n",
    "\n",
    "X = tokenizer.texts_to_sequences(df_train['Gene'].values)\n",
    "X = pad_sequences(X)"
   ]
  },
  {
   "cell_type": "code",
   "execution_count": 9,
   "metadata": {
    "scrolled": false
   },
   "outputs": [
    {
     "data": {
      "text/plain": [
       "array([[ 0,  0,  8, ..., 22, 33,  2],\n",
       "       [ 0,  0,  0, ...,  5,  6, 18],\n",
       "       [ 0,  0,  0, ...,  5,  6, 18],\n",
       "       ..., \n",
       "       [ 0,  0, 15, ...,  9, 10,  3],\n",
       "       [ 0,  0,  0, ...,  2,  4, 15],\n",
       "       [ 0,  0,  0, ...,  7, 22, 14]], dtype=int32)"
      ]
     },
     "execution_count": 9,
     "metadata": {},
     "output_type": "execute_result"
    }
   ],
   "source": [
    "X"
   ]
  },
  {
   "cell_type": "code",
   "execution_count": 10,
   "metadata": {},
   "outputs": [
    {
     "data": {
      "text/plain": [
       "8"
      ]
     },
     "execution_count": 10,
     "metadata": {},
     "output_type": "execute_result"
    }
   ],
   "source": [
    "X.shape[1]"
   ]
  },
  {
   "cell_type": "code",
   "execution_count": 11,
   "metadata": {},
   "outputs": [],
   "source": [
    "words = len(tokenizer.word_index)"
   ]
  },
  {
   "cell_type": "code",
   "execution_count": 12,
   "metadata": {},
   "outputs": [],
   "source": [
    "ckpt_callback = ModelCheckpoint('gene_model_1',\n",
    "                                 monitor='val_loss',\n",
    "                                 verbose=1,\n",
    "                                 save_best_only=True,\n",
    "                                 mode='auto')\n"
   ]
  },
  {
   "cell_type": "code",
   "execution_count": 13,
   "metadata": {},
   "outputs": [
    {
     "name": "stdout",
     "output_type": "stream",
     "text": [
      "_________________________________________________________________\n",
      "Layer (type)                 Output Shape              Param #   \n",
      "=================================================================\n",
      "embedding_1 (Embedding)      (None, 8, 128)            4864      \n",
      "_________________________________________________________________\n",
      "lstm_1 (LSTM)                (None, 196)               254800    \n",
      "_________________________________________________________________\n",
      "dense_1 (Dense)              (None, 9)                 1773      \n",
      "=================================================================\n",
      "Total params: 261,437\n",
      "Trainable params: 261,437\n",
      "Non-trainable params: 0\n",
      "_________________________________________________________________\n",
      "None\n"
     ]
    }
   ],
   "source": [
    "model = Sequential()\n",
    "model.add(Embedding(words+1, 128, input_length = X.shape[1]))\n",
    "model.add(LSTM(196, recurrent_dropout=0.5, dropout=0.5))\n",
    "model.add(Dense(9, kernel_initializer='normal',activation='softmax'))\n",
    "model.compile(loss = 'categorical_crossentropy', optimizer='adam', metrics = ['categorical_crossentropy','accuracy'])\n",
    "print(model.summary())"
   ]
  },
  {
   "cell_type": "code",
   "execution_count": 14,
   "metadata": {},
   "outputs": [
    {
     "name": "stdout",
     "output_type": "stream",
     "text": [
      "(2951, 8) (2951, 9)\n",
      "(738, 8) (738, 9)\n"
     ]
    }
   ],
   "source": [
    "\n",
    "Y = pd.get_dummies(df_train['Class']).values\n",
    "X_train, X_test, Y_train, Y_test = train_test_split(X, Y, test_size = 0.2, random_state = 42, stratify=Y)\n",
    "print(X_train.shape, Y_train.shape)\n",
    "print(X_test.shape, Y_test.shape)\n",
    "batch_size = 16"
   ]
  },
  {
   "cell_type": "code",
   "execution_count": 15,
   "metadata": {},
   "outputs": [
    {
     "data": {
      "text/plain": [
       "array([[ 0,  0,  0, ...,  6, 18,  3],\n",
       "       [ 0,  0,  0, ..., 25, 20, 18],\n",
       "       [ 0,  0,  0, ...,  4, 11, 12],\n",
       "       ..., \n",
       "       [ 0,  0,  0, ...,  6,  4, 10],\n",
       "       [ 0,  0,  0, ..., 10, 19,  4],\n",
       "       [ 0,  0,  5, ..., 12,  9,  2]], dtype=int32)"
      ]
     },
     "execution_count": 15,
     "metadata": {},
     "output_type": "execute_result"
    }
   ],
   "source": [
    "X_test"
   ]
  },
  {
   "cell_type": "code",
   "execution_count": 16,
   "metadata": {
    "scrolled": false
   },
   "outputs": [
    {
     "name": "stdout",
     "output_type": "stream",
     "text": [
      "Train on 2360 samples, validate on 591 samples\n",
      "Epoch 1/10\n",
      "2336/2360 [============================>.] - ETA: 0s - loss: 1.8332 - categorical_crossentropy: 1.8332 - acc: 0.3014Epoch 00000: val_loss improved from inf to 1.64070, saving model to gene_model_1\n",
      "2360/2360 [==============================] - 3s - loss: 1.8311 - categorical_crossentropy: 1.8311 - acc: 0.3038 - val_loss: 1.6407 - val_categorical_crossentropy: 1.6407 - val_acc: 0.4061\n",
      "Epoch 2/10\n",
      "2352/2360 [============================>.] - ETA: 0s - loss: 1.5934 - categorical_crossentropy: 1.5934 - acc: 0.4141Epoch 00001: val_loss improved from 1.64070 to 1.51740, saving model to gene_model_1\n",
      "2360/2360 [==============================] - 2s - loss: 1.5928 - categorical_crossentropy: 1.5928 - acc: 0.4144 - val_loss: 1.5174 - val_categorical_crossentropy: 1.5174 - val_acc: 0.4636\n",
      "Epoch 3/10\n",
      "2304/2360 [============================>.] - ETA: 0s - loss: 1.4983 - categorical_crossentropy: 1.4983 - acc: 0.4557Epoch 00002: val_loss improved from 1.51740 to 1.48425, saving model to gene_model_1\n",
      "2360/2360 [==============================] - 2s - loss: 1.4983 - categorical_crossentropy: 1.4983 - acc: 0.4568 - val_loss: 1.4842 - val_categorical_crossentropy: 1.4842 - val_acc: 0.4788\n",
      "Epoch 4/10\n",
      "2320/2360 [============================>.] - ETA: 0s - loss: 1.4436 - categorical_crossentropy: 1.4436 - acc: 0.4716Epoch 00003: val_loss improved from 1.48425 to 1.41259, saving model to gene_model_1\n",
      "2360/2360 [==============================] - 2s - loss: 1.4389 - categorical_crossentropy: 1.4389 - acc: 0.4737 - val_loss: 1.4126 - val_categorical_crossentropy: 1.4126 - val_acc: 0.4788\n",
      "Epoch 5/10\n",
      "2320/2360 [============================>.] - ETA: 0s - loss: 1.3926 - categorical_crossentropy: 1.3926 - acc: 0.4983Epoch 00004: val_loss improved from 1.41259 to 1.39428, saving model to gene_model_1\n",
      "2360/2360 [==============================] - 2s - loss: 1.3910 - categorical_crossentropy: 1.3910 - acc: 0.4987 - val_loss: 1.3943 - val_categorical_crossentropy: 1.3943 - val_acc: 0.4822\n",
      "Epoch 6/10\n",
      "2304/2360 [============================>.] - ETA: 0s - loss: 1.3632 - categorical_crossentropy: 1.3632 - acc: 0.5013Epoch 00005: val_loss improved from 1.39428 to 1.35689, saving model to gene_model_1\n",
      "2360/2360 [==============================] - 2s - loss: 1.3586 - categorical_crossentropy: 1.3586 - acc: 0.5030 - val_loss: 1.3569 - val_categorical_crossentropy: 1.3569 - val_acc: 0.5042\n",
      "Epoch 7/10\n",
      "2352/2360 [============================>.] - ETA: 0s - loss: 1.3285 - categorical_crossentropy: 1.3285 - acc: 0.5132Epoch 00006: val_loss did not improve\n",
      "2360/2360 [==============================] - 2s - loss: 1.3292 - categorical_crossentropy: 1.3292 - acc: 0.5123 - val_loss: 1.3689 - val_categorical_crossentropy: 1.3689 - val_acc: 0.4890\n",
      "Epoch 8/10\n",
      "2352/2360 [============================>.] - ETA: 0s - loss: 1.3071 - categorical_crossentropy: 1.3071 - acc: 0.5132Epoch 00007: val_loss improved from 1.35689 to 1.35607, saving model to gene_model_1\n",
      "2360/2360 [==============================] - 2s - loss: 1.3054 - categorical_crossentropy: 1.3054 - acc: 0.5136 - val_loss: 1.3561 - val_categorical_crossentropy: 1.3561 - val_acc: 0.4941\n",
      "Epoch 9/10\n",
      "2320/2360 [============================>.] - ETA: 0s - loss: 1.2823 - categorical_crossentropy: 1.2823 - acc: 0.5263Epoch 00008: val_loss improved from 1.35607 to 1.32519, saving model to gene_model_1\n",
      "2360/2360 [==============================] - 2s - loss: 1.2809 - categorical_crossentropy: 1.2809 - acc: 0.5271 - val_loss: 1.3252 - val_categorical_crossentropy: 1.3252 - val_acc: 0.5313\n",
      "Epoch 10/10\n",
      "2320/2360 [============================>.] - ETA: 0s - loss: 1.2675 - categorical_crossentropy: 1.2675 - acc: 0.5306Epoch 00009: val_loss did not improve\n",
      "2360/2360 [==============================] - 2s - loss: 1.2664 - categorical_crossentropy: 1.2664 - acc: 0.5305 - val_loss: 1.3270 - val_categorical_crossentropy: 1.3270 - val_acc: 0.5110\n"
     ]
    }
   ],
   "source": [
    "history = model.fit(X_train, Y_train, epochs=10, batch_size=batch_size, validation_split=0.2,shuffle=True, callbacks=[ckpt_callback])\n"
   ]
  },
  {
   "cell_type": "code",
   "execution_count": 17,
   "metadata": {
    "scrolled": false
   },
   "outputs": [
    {
     "name": "stdout",
     "output_type": "stream",
     "text": [
      "dict_keys(['val_categorical_crossentropy', 'val_loss', 'acc', 'loss', 'val_acc', 'categorical_crossentropy'])\n"
     ]
    },
    {
     "data": {
      "image/png": "[encoded data removed]",
      "text/plain": [
       "<matplotlib.figure.Figure at 0x7f91d02f71d0>"
      ]
     },
     "metadata": {},
     "output_type": "display_data"
    },
    {
     "data": {
      "image/png": "[encoded data removed]",
      "text/plain": [
       "<matplotlib.figure.Figure at 0x7f91d02ec208>"
      ]
     },
     "metadata": {},
     "output_type": "display_data"
    }
   ],
   "source": [
    "print(history.history.keys())\n",
    "#  \"Accuracy\"\n",
    "plt.plot(history.history['acc'])\n",
    "plt.plot(history.history['val_acc'])\n",
    "plt.title('model accuracy')\n",
    "plt.ylabel('accuracy')\n",
    "plt.xlabel('epoch')\n",
    "model.add(Dropout(0.3))\n",
    "model.add(Dense(64, kernel_initializer='normal', activation='relu'))\n",
    "plt.legend(['train', 'validation'], loc='upper left')\n",
    "plt.show()\n",
    "# \"Loss\"\n",
    "plt.plot(history.history['loss'])\n",
    "plt.plot(history.history['val_loss'])\n",
    "plt.title('model loss')\n",
    "plt.ylabel('loss')\n",
    "plt.xlabel('epoch')\n",
    "plt.legend(['train', 'validation'], loc='upper left')\n",
    "plt.show()"
   ]
  },
  {
   "cell_type": "code",
   "execution_count": 18,
   "metadata": {},
   "outputs": [
    {
     "data": {
      "text/plain": [
       "0     CHEK2\n",
       "1     AXIN2\n",
       "2      WNT4\n",
       "3    SUCLA2\n",
       "4      BRAF\n",
       "Name: Gene, dtype: object"
      ]
     },
     "execution_count": 18,
     "metadata": {},
     "output_type": "execute_result"
    }
   ],
   "source": [
    "df_test['Gene'].head(5)"
   ]
  },
  {
   "cell_type": "code",
   "execution_count": 19,
   "metadata": {},
   "outputs": [],
   "source": [
    "model = load_model('gene_model_1')"
   ]
  },
  {
   "cell_type": "code",
   "execution_count": 20,
   "metadata": {},
   "outputs": [],
   "source": [
    "#df_Xt = pd.DataFrame({'x':X_test})\n",
    "#probas = model.predict(test)\n",
    "#X_test = tokenizer.texts_to_sequences(df_test['Gene'].values)\n",
    "#X_test = tokenizer.texts_to_sequences(df+Xt['x'.values])\n",
    "#X_test = pad_sequences(X_test,maxlen=2)\n",
    "#X_test"
   ]
  },
  {
   "cell_type": "code",
   "execution_count": 25,
   "metadata": {},
   "outputs": [],
   "source": [
    "probas = model.predict(X_test)"
   ]
  },
  {
   "cell_type": "code",
   "execution_count": 29,
   "metadata": {},
   "outputs": [],
   "source": [
    "%matplotlib inline\n",
    "import scikitplot"
   ]
  },
  {
   "cell_type": "code",
   "execution_count": 30,
   "metadata": {},
   "outputs": [
    {
     "name": "stdout",
     "output_type": "stream",
     "text": [
      "Log loss: 1.239366044257553\n",
      "Accuracy: 0.510840108401084\n"
     ]
    },
    {
     "data": {
      "text/plain": [
       "<matplotlib.axes._subplots.AxesSubplot at 0x7f9189de0b70>"
      ]
     },
     "execution_count": 30,
     "metadata": {},
     "output_type": "execute_result"
    },
    {
     "data": {
      "image/png": "[encoded data removed]",
      "text/plain": [
       "<matplotlib.figure.Figure at 0x7f91dda9fc18>"
      ]
     },
     "metadata": {},
     "output_type": "display_data"
    }
   ],
   "source": [
    "pred_indices = np.argmax(probas, axis=1)\n",
    "classes = np.array(range(1, 10))\n",
    "preds = classes[pred_indices]\n",
    "print('Log loss: {}'.format(log_loss(classes[np.argmax(Y_test, axis=1)], probas)))\n",
    "print('Accuracy: {}'.format(accuracy_score(classes[np.argmax(Y_test, axis=1)], preds)))\n",
    "scikitplot.metrics.plot_confusion_matrix(classes[np.argmax(Y_test, axis=1)], preds)\n"
   ]
  },
  {
   "cell_type": "code",
   "execution_count": 24,
   "metadata": {},
   "outputs": [],
   "source": [
    "submission_df = pd.DataFrame(probas, columns=['class'+str(c+1) for c in range(9)])\n",
    "submission_df['ID'] = df_test['ID']\n",
    "submission_df.head()\n",
    "\n",
    "submission_df.to_csv('submission_Gene.csv', index=False)"
   ]
  },
  {
   "cell_type": "code",
   "execution_count": null,
   "metadata": {},
   "outputs": [],
   "source": []
  }
 ],
 "metadata": {
  "kernelspec": {
   "display_name": "Python 3",
   "language": "python",
   "name": "python3"
  },
  "language_info": {
   "codemirror_mode": {
    "name": "ipython",
    "version": 3
   },
   "file_extension": ".py",
   "mimetype": "text/x-python",
   "name": "python",
   "nbconvert_exporter": "python",
   "pygments_lexer": "ipython3",
   "version": "3.5.2"
  }
 },
 "nbformat": 4,
 "nbformat_minor": 2
}
